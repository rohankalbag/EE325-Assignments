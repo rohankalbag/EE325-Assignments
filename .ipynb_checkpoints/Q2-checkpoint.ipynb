{
 "cells": [
  {
   "cell_type": "code",
   "execution_count": 1,
   "metadata": {},
   "outputs": [],
   "source": [
    "import random, matplotlib.pyplot as plt, numpy as np\n",
    "#importing files\n",
    "import math\n",
    "myFile = open(\"hw1b1.txt\",'r')\n",
    "entries = myFile.readlines()"
   ]
  },
  {
   "cell_type": "code",
   "execution_count": 2,
   "metadata": {},
   "outputs": [],
   "source": [
    "tosses = []\n",
    "for i in entries:\n",
    "    if(i =='false\\n'):\n",
    "        tosses += [0]\n",
    "    else:\n",
    "        tosses += [1]"
   ]
  },
  {
   "cell_type": "code",
   "execution_count": 3,
   "metadata": {},
   "outputs": [],
   "source": [
    "def likelinessCalc(n,i):\n",
    "    likeliness_function = (math.comb(n,i)/math.comb(n,n//2))\n",
    "    return likeliness_function"
   ]
  },
  {
   "cell_type": "code",
   "execution_count": 4,
   "metadata": {},
   "outputs": [
    {
     "name": "stdout",
     "output_type": "stream",
     "text": [
      "For the tosses in hw1b1.txt\n"
     ]
    },
    {
     "data": {
      "image/png": "[encoded data removed]",
      "text/plain": [
       "<Figure size 432x288 with 1 Axes>"
      ]
     },
     "metadata": {
      "needs_background": "light"
     },
     "output_type": "display_data"
    },
    {
     "ename": "TypeError",
     "evalue": "unsupported operand type(s) for -: 'int' and 'list'",
     "output_type": "error",
     "traceback": [
      "\u001b[1;31m---------------------------------------------------------------------------\u001b[0m",
      "\u001b[1;31mTypeError\u001b[0m                                 Traceback (most recent call last)",
      "\u001b[1;32m~\\AppData\\Local\\Temp/ipykernel_22984/2554043307.py\u001b[0m in \u001b[0;36m<module>\u001b[1;34m\u001b[0m\n\u001b[0;32m     13\u001b[0m \u001b[0mplt\u001b[0m\u001b[1;33m.\u001b[0m\u001b[0mplot\u001b[0m\u001b[1;33m(\u001b[0m\u001b[0mnp\u001b[0m\u001b[1;33m.\u001b[0m\u001b[0marange\u001b[0m\u001b[1;33m(\u001b[0m\u001b[1;36m1\u001b[0m\u001b[1;33m,\u001b[0m\u001b[0mlen\u001b[0m\u001b[1;33m(\u001b[0m\u001b[0mtosses\u001b[0m\u001b[1;33m)\u001b[0m\u001b[1;33m+\u001b[0m\u001b[1;36m1\u001b[0m\u001b[1;33m)\u001b[0m\u001b[1;33m,\u001b[0m\u001b[0mlikeliness\u001b[0m\u001b[1;33m)\u001b[0m\u001b[1;33m\u001b[0m\u001b[1;33m\u001b[0m\u001b[0m\n\u001b[0;32m     14\u001b[0m \u001b[0mplt\u001b[0m\u001b[1;33m.\u001b[0m\u001b[0mshow\u001b[0m\u001b[1;33m(\u001b[0m\u001b[1;33m)\u001b[0m\u001b[1;33m\u001b[0m\u001b[1;33m\u001b[0m\u001b[0m\n\u001b[1;32m---> 15\u001b[1;33m \u001b[0mplt\u001b[0m\u001b[1;33m.\u001b[0m\u001b[0mplot\u001b[0m\u001b[1;33m(\u001b[0m\u001b[0mnp\u001b[0m\u001b[1;33m.\u001b[0m\u001b[0marange\u001b[0m\u001b[1;33m(\u001b[0m\u001b[1;36m1\u001b[0m\u001b[1;33m,\u001b[0m\u001b[0mlen\u001b[0m\u001b[1;33m(\u001b[0m\u001b[0mtosses\u001b[0m\u001b[1;33m)\u001b[0m\u001b[1;33m+\u001b[0m\u001b[1;36m1\u001b[0m\u001b[1;33m)\u001b[0m\u001b[1;33m,\u001b[0m\u001b[0mnp\u001b[0m\u001b[1;33m.\u001b[0m\u001b[0mlog\u001b[0m\u001b[1;33m(\u001b[0m\u001b[1;36m1\u001b[0m\u001b[1;33m-\u001b[0m\u001b[0mlikeliness\u001b[0m\u001b[1;33m)\u001b[0m\u001b[1;33m)\u001b[0m\u001b[1;33m\u001b[0m\u001b[1;33m\u001b[0m\u001b[0m\n\u001b[0m\u001b[0;32m     16\u001b[0m \u001b[0mplt\u001b[0m\u001b[1;33m.\u001b[0m\u001b[0mshow\u001b[0m\u001b[1;33m(\u001b[0m\u001b[1;33m)\u001b[0m\u001b[1;33m\u001b[0m\u001b[1;33m\u001b[0m\u001b[0m\n",
      "\u001b[1;31mTypeError\u001b[0m: unsupported operand type(s) for -: 'int' and 'list'"
     ]
    }
   ],
   "source": [
    "noofheads = 0\n",
    "nooftails = 0 \n",
    "nooftosses = 0\n",
    "likeliness = []\n",
    "for i in tosses:\n",
    "    if(i==0):\n",
    "        nooftails += 1\n",
    "    else:\n",
    "        noofheads += 1\n",
    "    nooftosses += 1\n",
    "    likeliness += [likelinessCalc(nooftosses,noofheads)]\n",
    "print(\"For the tosses in hw1b1.txt\")\n",
    "ones = np.array([1]*len(tosses))\n",
    "plt.plot(np.arange(1,len(tosses)+1),likeliness)\n",
    "plt.show()\n",
    "plt.plot(np.arange(1,len(tosses)+1),np.log(ones-likeliness))\n",
    "plt.show()"
   ]
  },
  {
   "cell_type": "code",
   "execution_count": null,
   "metadata": {},
   "outputs": [],
   "source": [
    "myFile = open(\"hw1b2.txt\",'r')\n",
    "entries = myFile.readlines()\n",
    "noofheads = 0\n",
    "nooftails = 0 \n",
    "nooftosses = 0\n",
    "likeliness = []\n",
    "tosses = []\n",
    "for i in entries:\n",
    "    if(i =='false\\n'):\n",
    "        tosses += [0]\n",
    "    else:\n",
    "        tosses += [1]\n",
    "for i in tosses:\n",
    "    if(i==0):\n",
    "        nooftails += 1\n",
    "    else:\n",
    "        noofheads += 1\n",
    "    nooftosses += 1\n",
    "    likeliness += [likelinessCalc(nooftosses,noofheads)]\n",
    "print(\"For the tosses in hw1b2.txt\")\n",
    "ones = np.array([1]*len(tosses))\n",
    "plt.plot(np.arange(1,len(tosses)+1),likeliness)\n",
    "plt.show()\n",
    "plt.plot(np.arange(1,len(tosses)+1),np.log(ones-likeliness))\n",
    "plt.show()"
   ]
  },
  {
   "cell_type": "code",
   "execution_count": null,
   "metadata": {},
   "outputs": [],
   "source": [
    "myFile = open(\"hw1b3.txt\",'r')\n",
    "entries = myFile.readlines()\n",
    "noofheads = 0\n",
    "nooftails = 0 \n",
    "nooftosses = 0\n",
    "likeliness = []\n",
    "tosses = []\n",
    "for i in entries:\n",
    "    if(i =='false\\n'):\n",
    "        tosses += [0]\n",
    "    else:\n",
    "        tosses += [1]\n",
    "for i in tosses:\n",
    "    if(i==0):\n",
    "        nooftails += 1\n",
    "    else:\n",
    "        noofheads += 1\n",
    "    nooftosses += 1\n",
    "    likeliness += [likelinessCalc(nooftosses,noofheads)]\n",
    "print(\"For the tosses in hw1b3.txt\")\n",
    "ones = np.array([1]*len(tosses))\n",
    "plt.plot(np.arange(1,len(tosses)+1),likeliness)\n",
    "plt.show()\n",
    "plt.plot(np.arange(1,len(tosses)+1),np.log(ones-likeliness))\n",
    "plt.show()"
   ]
  },
  {
   "cell_type": "code",
   "execution_count": null,
   "metadata": {},
   "outputs": [],
   "source": [
    "myFile = open(\"hw1b4.txt\",'r')\n",
    "entries = myFile.readlines()\n",
    "noofheads = 0\n",
    "nooftails = 0 \n",
    "nooftosses = 0\n",
    "likeliness = []\n",
    "tosses = []\n",
    "for i in entries:\n",
    "    if(i =='false\\n'):\n",
    "        tosses += [0]\n",
    "    else:\n",
    "        tosses += [1]\n",
    "for i in tosses:\n",
    "    if(i==0):\n",
    "        nooftails += 1\n",
    "    else:\n",
    "        noofheads += 1\n",
    "    nooftosses += 1\n",
    "    likeliness += [likelinessCalc(nooftosses,noofheads)]\n",
    "print(\"For the tosses in hw1b4.txt\")\n",
    "ones = np.array([1]*len(tosses))\n",
    "plt.plot(np.arange(1,len(tosses)+1),likeliness)\n",
    "plt.show()\n",
    "plt.plot(np.arange(1,len(tosses)+1),np.log(ones-likeliness))\n",
    "plt.show()"
   ]
  }
 ],
 "metadata": {
  "interpreter": {
   "hash": "fe06f96167c4fc64a78c238d993189072a4e72b444216e36203d6f96126eaf0a"
  },
  "kernelspec": {
   "display_name": "Python 3 (ipykernel)",
   "language": "python",
   "name": "python3"
  },
  "language_info": {
   "codemirror_mode": {
    "name": "ipython",
    "version": 3
   },
   "file_extension": ".py",
   "mimetype": "text/x-python",
   "name": "python",
   "nbconvert_exporter": "python",
   "pygments_lexer": "ipython3",
   "version": "3.9.0"
  }
 },
 "nbformat": 4,
 "nbformat_minor": 2
}
