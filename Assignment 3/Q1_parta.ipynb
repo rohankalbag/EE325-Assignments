{
  "nbformat": 4,
  "nbformat_minor": 0,
  "metadata": {
    "colab": {
      "name": "Q1_parta.ipynb",
      "provenance": [],
      "authorship_tag": "ABX9TyMdj2XUpBVHMD5CkCCKihx/",
      "include_colab_link": true
    },
    "kernelspec": {
      "name": "python3",
      "display_name": "Python 3"
    },
    "language_info": {
      "name": "python"
    },
    "widgets": {
      "application/vnd.jupyter.widget-state+json": {
        "8e99f63d9f3148669ea4b40cc5110300": {
          "model_module": "@jupyter-widgets/controls",
          "model_name": "HBoxModel",
          "model_module_version": "1.5.0",
          "state": {
            "_view_name": "HBoxView",
            "_dom_classes": [],
            "_model_name": "HBoxModel",
            "_view_module": "@jupyter-widgets/controls",
            "_model_module_version": "1.5.0",
            "_view_count": null,
            "_view_module_version": "1.5.0",
            "box_style": "",
            "layout": "IPY_MODEL_fe39eebd744c42fa8524cb443421d4e3",
            "_model_module": "@jupyter-widgets/controls",
            "children": [
              "IPY_MODEL_f691b07696814cfb97f2e4cd4014b1d0",
              "IPY_MODEL_f26f1003fbf542a2b817536443dc403f",
              "IPY_MODEL_55f08d459a5f4d629e7edde208c0c7e3"
            ]
          }
        },
        "fe39eebd744c42fa8524cb443421d4e3": {
          "model_module": "@jupyter-widgets/base",
          "model_name": "LayoutModel",
          "model_module_version": "1.2.0",
          "state": {
            "_view_name": "LayoutView",
            "grid_template_rows": null,
            "right": null,
            "justify_content": null,
            "_view_module": "@jupyter-widgets/base",
            "overflow": null,
            "_model_module_version": "1.2.0",
            "_view_count": null,
            "flex_flow": null,
            "width": null,
            "min_width": null,
            "border": null,
            "align_items": null,
            "bottom": null,
            "_model_module": "@jupyter-widgets/base",
            "top": null,
            "grid_column": null,
            "overflow_y": null,
            "overflow_x": null,
            "grid_auto_flow": null,
            "grid_area": null,
            "grid_template_columns": null,
            "flex": null,
            "_model_name": "LayoutModel",
            "justify_items": null,
            "grid_row": null,
            "max_height": null,
            "align_content": null,
            "visibility": null,
            "align_self": null,
            "height": null,
            "min_height": null,
            "padding": null,
            "grid_auto_rows": null,
            "grid_gap": null,
            "max_width": null,
            "order": null,
            "_view_module_version": "1.2.0",
            "grid_template_areas": null,
            "object_position": null,
            "object_fit": null,
            "grid_auto_columns": null,
            "margin": null,
            "display": null,
            "left": null
          }
        },
        "f691b07696814cfb97f2e4cd4014b1d0": {
          "model_module": "@jupyter-widgets/controls",
          "model_name": "HTMLModel",
          "model_module_version": "1.5.0",
          "state": {
            "_view_name": "HTMLView",
            "style": "IPY_MODEL_b89382d64b26468daf3b3da97c732b74",
            "_dom_classes": [],
            "description": "",
            "_model_name": "HTMLModel",
            "placeholder": "​",
            "_view_module": "@jupyter-widgets/controls",
            "_model_module_version": "1.5.0",
            "value": "",
            "_view_count": null,
            "_view_module_version": "1.5.0",
            "description_tooltip": null,
            "_model_module": "@jupyter-widgets/controls",
            "layout": "IPY_MODEL_4108920876b14de2aa384e1b4b8593e3"
          }
        },
        "f26f1003fbf542a2b817536443dc403f": {
          "model_module": "@jupyter-widgets/controls",
          "model_name": "FloatProgressModel",
          "model_module_version": "1.5.0",
          "state": {
            "_view_name": "ProgressView",
            "style": "IPY_MODEL_873d2420513441409e406855d8de34eb",
            "_dom_classes": [],
            "description": "",
            "_model_name": "FloatProgressModel",
            "bar_style": "",
            "max": 2889608000,
            "_view_module": "@jupyter-widgets/controls",
            "_model_module_version": "1.5.0",
            "value": 2889608000,
            "_view_count": null,
            "_view_module_version": "1.5.0",
            "orientation": "horizontal",
            "min": 0,
            "description_tooltip": null,
            "_model_module": "@jupyter-widgets/controls",
            "layout": "IPY_MODEL_64c75885201b47718da0d0d3b2b21994"
          }
        },
        "55f08d459a5f4d629e7edde208c0c7e3": {
          "model_module": "@jupyter-widgets/controls",
          "model_name": "HTMLModel",
          "model_module_version": "1.5.0",
          "state": {
            "_view_name": "HTMLView",
            "style": "IPY_MODEL_7f31903323554702a583c80c4ebf63cf",
            "_dom_classes": [],
            "description": "",
            "_model_name": "HTMLModel",
            "placeholder": "​",
            "_view_module": "@jupyter-widgets/controls",
            "_model_module_version": "1.5.0",
            "value": " 2890293000/? [16:31&lt;00:00, 417067.61it/s]",
            "_view_count": null,
            "_view_module_version": "1.5.0",
            "description_tooltip": null,
            "_model_module": "@jupyter-widgets/controls",
            "layout": "IPY_MODEL_a44d27577c714752b9b06ac8c52a745d"
          }
        },
        "b89382d64b26468daf3b3da97c732b74": {
          "model_module": "@jupyter-widgets/controls",
          "model_name": "DescriptionStyleModel",
          "model_module_version": "1.5.0",
          "state": {
            "_view_name": "StyleView",
            "_model_name": "DescriptionStyleModel",
            "description_width": "",
            "_view_module": "@jupyter-widgets/base",
            "_model_module_version": "1.5.0",
            "_view_count": null,
            "_view_module_version": "1.2.0",
            "_model_module": "@jupyter-widgets/controls"
          }
        },
        "4108920876b14de2aa384e1b4b8593e3": {
          "model_module": "@jupyter-widgets/base",
          "model_name": "LayoutModel",
          "model_module_version": "1.2.0",
          "state": {
            "_view_name": "LayoutView",
            "grid_template_rows": null,
            "right": null,
            "justify_content": null,
            "_view_module": "@jupyter-widgets/base",
            "overflow": null,
            "_model_module_version": "1.2.0",
            "_view_count": null,
            "flex_flow": null,
            "width": null,
            "min_width": null,
            "border": null,
            "align_items": null,
            "bottom": null,
            "_model_module": "@jupyter-widgets/base",
            "top": null,
            "grid_column": null,
            "overflow_y": null,
            "overflow_x": null,
            "grid_auto_flow": null,
            "grid_area": null,
            "grid_template_columns": null,
            "flex": null,
            "_model_name": "LayoutModel",
            "justify_items": null,
            "grid_row": null,
            "max_height": null,
            "align_content": null,
            "visibility": null,
            "align_self": null,
            "height": null,
            "min_height": null,
            "padding": null,
            "grid_auto_rows": null,
            "grid_gap": null,
            "max_width": null,
            "order": null,
            "_view_module_version": "1.2.0",
            "grid_template_areas": null,
            "object_position": null,
            "object_fit": null,
            "grid_auto_columns": null,
            "margin": null,
            "display": null,
            "left": null
          }
        },
        "873d2420513441409e406855d8de34eb": {
          "model_module": "@jupyter-widgets/controls",
          "model_name": "ProgressStyleModel",
          "model_module_version": "1.5.0",
          "state": {
            "_view_name": "StyleView",
            "_model_name": "ProgressStyleModel",
            "description_width": "",
            "_view_module": "@jupyter-widgets/base",
            "_model_module_version": "1.5.0",
            "_view_count": null,
            "_view_module_version": "1.2.0",
            "bar_color": null,
            "_model_module": "@jupyter-widgets/controls"
          }
        },
        "64c75885201b47718da0d0d3b2b21994": {
          "model_module": "@jupyter-widgets/base",
          "model_name": "LayoutModel",
          "model_module_version": "1.2.0",
          "state": {
            "_view_name": "LayoutView",
            "grid_template_rows": null,
            "right": null,
            "justify_content": null,
            "_view_module": "@jupyter-widgets/base",
            "overflow": null,
            "_model_module_version": "1.2.0",
            "_view_count": null,
            "flex_flow": null,
            "width": null,
            "min_width": null,
            "border": null,
            "align_items": null,
            "bottom": null,
            "_model_module": "@jupyter-widgets/base",
            "top": null,
            "grid_column": null,
            "overflow_y": null,
            "overflow_x": null,
            "grid_auto_flow": null,
            "grid_area": null,
            "grid_template_columns": null,
            "flex": null,
            "_model_name": "LayoutModel",
            "justify_items": null,
            "grid_row": null,
            "max_height": null,
            "align_content": null,
            "visibility": null,
            "align_self": null,
            "height": null,
            "min_height": null,
            "padding": null,
            "grid_auto_rows": null,
            "grid_gap": null,
            "max_width": null,
            "order": null,
            "_view_module_version": "1.2.0",
            "grid_template_areas": null,
            "object_position": null,
            "object_fit": null,
            "grid_auto_columns": null,
            "margin": null,
            "display": null,
            "left": null
          }
        },
        "7f31903323554702a583c80c4ebf63cf": {
          "model_module": "@jupyter-widgets/controls",
          "model_name": "DescriptionStyleModel",
          "model_module_version": "1.5.0",
          "state": {
            "_view_name": "StyleView",
            "_model_name": "DescriptionStyleModel",
            "description_width": "",
            "_view_module": "@jupyter-widgets/base",
            "_model_module_version": "1.5.0",
            "_view_count": null,
            "_view_module_version": "1.2.0",
            "_model_module": "@jupyter-widgets/controls"
          }
        },
        "a44d27577c714752b9b06ac8c52a745d": {
          "model_module": "@jupyter-widgets/base",
          "model_name": "LayoutModel",
          "model_module_version": "1.2.0",
          "state": {
            "_view_name": "LayoutView",
            "grid_template_rows": null,
            "right": null,
            "justify_content": null,
            "_view_module": "@jupyter-widgets/base",
            "overflow": null,
            "_model_module_version": "1.2.0",
            "_view_count": null,
            "flex_flow": null,
            "width": null,
            "min_width": null,
            "border": null,
            "align_items": null,
            "bottom": null,
            "_model_module": "@jupyter-widgets/base",
            "top": null,
            "grid_column": null,
            "overflow_y": null,
            "overflow_x": null,
            "grid_auto_flow": null,
            "grid_area": null,
            "grid_template_columns": null,
            "flex": null,
            "_model_name": "LayoutModel",
            "justify_items": null,
            "grid_row": null,
            "max_height": null,
            "align_content": null,
            "visibility": null,
            "align_self": null,
            "height": null,
            "min_height": null,
            "padding": null,
            "grid_auto_rows": null,
            "grid_gap": null,
            "max_width": null,
            "order": null,
            "_view_module_version": "1.2.0",
            "grid_template_areas": null,
            "object_position": null,
            "object_fit": null,
            "grid_auto_columns": null,
            "margin": null,
            "display": null,
            "left": null
          }
        }
      }
    }
  },
  "cells": [
    {
      "cell_type": "markdown",
      "metadata": {
        "id": "view-in-github",
        "colab_type": "text"
      },
      "source": [
        "<a href=\"https://colab.research.google.com/github/rohankalbag/EE325-Assignment-Repo/blob/main/Assignment%203/Q1_parta.ipynb\" target=\"_parent\"><img src=\"https://colab.research.google.com/assets/colab-badge.svg\" alt=\"Open In Colab\"/></a>"
      ]
    },
    {
      "cell_type": "code",
      "metadata": {
        "id": "T7sx5-pXkUZM"
      },
      "source": [
        "import numpy as np\n",
        "import random\n",
        "import matplotlib as plt\n",
        "from tqdm.auto import tqdm\n",
        "from tabulate import tabulate"
      ],
      "execution_count": 1,
      "outputs": []
    },
    {
      "cell_type": "code",
      "metadata": {
        "id": "gTxJgjLxmVD7"
      },
      "source": [
        "random.seed(42)"
      ],
      "execution_count": 2,
      "outputs": []
    },
    {
      "cell_type": "code",
      "metadata": {
        "id": "QwjkGUwHlXfA"
      },
      "source": [
        "# Format matplotlib for good looking plots\n",
        "plt.style.use('ggplot')\n",
        "plt.rcParams['figure.figsize'] = (15,10)"
      ],
      "execution_count": 3,
      "outputs": []
    },
    {
      "cell_type": "code",
      "metadata": {
        "id": "TRwJL73Pmj2b"
      },
      "source": [
        "def rand_coin(p):\n",
        "  return 1*(random.random()<p)\n",
        "\n",
        "def E_p(p,k):\n",
        "  return sum([rand_coin(p) for i in range(k)])/k"
      ],
      "execution_count": 4,
      "outputs": []
    },
    {
      "cell_type": "code",
      "metadata": {
        "id": "XMElcCoel9ct"
      },
      "source": [
        "def algoA(N,k,P):\n",
        "  exp_P = [E_p(p,k) for p in P]\n",
        "  n = [round(k*p) for p in exp_P]\n",
        "  t = rand_coin(0.5)\n",
        "  ind = t*exp_P.index(max(exp_P))+(1-t)*(2-exp_P[::-1].index(max(exp_P)))\n",
        "  max_p = P[ind]\n",
        "  R = sum(n) + (N-3*k)*E_p(max_p,N-3*k)\n",
        "  return R,ind"
      ],
      "execution_count": 5,
      "outputs": []
    },
    {
      "cell_type": "code",
      "metadata": {
        "id": "L8-X4tO1uzXS"
      },
      "source": [
        "P_all = [[0.2,0.4,0.7],[0.45,0.5,0.58]]\n",
        "\n",
        "N = [20,100,1000,5000]"
      ],
      "execution_count": 6,
      "outputs": []
    },
    {
      "cell_type": "code",
      "metadata": {
        "colab": {
          "base_uri": "https://localhost:8080/",
          "height": 183,
          "referenced_widgets": [
            "8e99f63d9f3148669ea4b40cc5110300",
            "fe39eebd744c42fa8524cb443421d4e3",
            "f691b07696814cfb97f2e4cd4014b1d0",
            "f26f1003fbf542a2b817536443dc403f",
            "55f08d459a5f4d629e7edde208c0c7e3",
            "b89382d64b26468daf3b3da97c732b74",
            "4108920876b14de2aa384e1b4b8593e3",
            "873d2420513441409e406855d8de34eb",
            "64c75885201b47718da0d0d3b2b21994",
            "7f31903323554702a583c80c4ebf63cf",
            "a44d27577c714752b9b06ac8c52a745d"
          ]
        },
        "id": "7B_Uf8Msm3UU",
        "outputId": "90da1cc8-548d-465e-db1e-8196e7000c99"
      },
      "source": [
        "all_sims = {'N':[],'P':[],'N1':[],'R_avg':[],'count_best':[]}\n",
        "num_steps = len(P_all)*sum([1000*k for n in N for k in range(1,n//3+1)])\n",
        "progress_bar = tqdm(range(num_steps))\n",
        "for P in P_all:\n",
        "  for N0 in N:\n",
        "    best_N1 = 0\n",
        "    best_R = 0\n",
        "    best_count = 0\n",
        "    for k in range(1,N0//3+1):\n",
        "      R = []\n",
        "      best_coin = []\n",
        "      for i in range(1000):\n",
        "        r, c = algoA(N0,k,P)\n",
        "        R.append(r)\n",
        "        best_coin.append(c)\n",
        "        progress_bar.update(k)\n",
        "      R_avg = sum(R)/len(R)\n",
        "      count_best = sum([i == P.index(max(P)) for i in best_coin])\n",
        "      all_sims['N'].append(N0)\n",
        "      all_sims['P'].append(P)\n",
        "      all_sims['N1'].append(3*k)\n",
        "      all_sims['R_avg'].append(R_avg)\n",
        "      all_sims['count_best'].append(count_best)\n",
        "      if R_avg>best_R:\n",
        "        best_R = R_avg\n",
        "        best_N1 = 3*k\n",
        "        best_count = count_best\n",
        "      if count_best == 1000:\n",
        "        progress_bar.update(sum([1000*j for j in range(k,N0//3+1)]))\n",
        "        break\n",
        "    print('For P = [{},{},{}], N = {}\\t best R_avg = {:0.3f} for N1 = {}\\t also count = {}/1000'.format(P[0],P[1],P[2],N0,best_R,best_N1,best_count))"
      ],
      "execution_count": 15,
      "outputs": [
        {
          "output_type": "display_data",
          "data": {
            "application/vnd.jupyter.widget-view+json": {
              "model_id": "8e99f63d9f3148669ea4b40cc5110300",
              "version_minor": 0,
              "version_major": 2
            },
            "text/plain": [
              "  0%|          | 0/2889608000 [00:00<?, ?it/s]"
            ]
          },
          "metadata": {}
        },
        {
          "output_type": "stream",
          "name": "stdout",
          "text": [
            "For P = [0.2,0.4,0.7], N = 20\t best R_avg = 10.818 for N1 = 6\t also count = 689/1000\n",
            "For P = [0.2,0.4,0.7], N = 100\t best R_avg = 60.600 for N1 = 24\t also count = 878/1000\n",
            "For P = [0.2,0.4,0.7], N = 1000\t best R_avg = 678.636 for N1 = 69\t also count = 987/1000\n",
            "For P = [0.2,0.4,0.7], N = 5000\t best R_avg = 3469.821 for N1 = 111\t also count = 998/1000\n",
            "For P = [0.45,0.5,0.58], N = 20\t best R_avg = 10.397 for N1 = 6\t also count = 433/1000\n",
            "For P = [0.45,0.5,0.58], N = 100\t best R_avg = 52.918 for N1 = 36\t also count = 556/1000\n",
            "For P = [0.45,0.5,0.58], N = 1000\t best R_avg = 553.049 for N1 = 231\t also count = 828/1000\n",
            "For P = [0.45,0.5,0.58], N = 5000\t best R_avg = 2844.571 for N1 = 495\t also count = 946/1000\n"
          ]
        }
      ]
    },
    {
      "cell_type": "code",
      "metadata": {
        "id": "RqzDCLjDDU2M"
      },
      "source": [
        "P = [0.2,0.4,0.7]\n",
        "N = 20\n",
        "R = 0\n",
        "table = [[]]\n",
        "for i in range(len(all_sims['N'])):\n",
        "  if all_sims['P'][i] == P:\n",
        "    if N == all_sims['N'][i]:\n",
        "      if all_sims['R_avg'][i]>R:\n",
        "        R = all_sims['R_avg'][i]\n",
        "        table[-1] = [P,N,R,all_sims['N1'][i],all_sims['count_best'][i]]\n",
        "    else:\n",
        "        N = all_sims['N'][i]\n",
        "        table.append([P,N,all_sims['R_avg'][i],all_sims['N1'][i],all_sims['count_best'][i]])\n",
        "  else:\n",
        "    P = all_sims['P'][i]\n",
        "    table.append([P,all_sims['N'][i],all_sims['R_avg'][i],all_sims['N1'][i],all_sims['count_best'][i]])"
      ],
      "execution_count": 22,
      "outputs": []
    },
    {
      "cell_type": "code",
      "metadata": {
        "colab": {
          "base_uri": "https://localhost:8080/"
        },
        "id": "uLzTW9tYJaT6",
        "outputId": "a179f609-7d37-4618-90ec-7a55651c82eb"
      },
      "source": [
        "print(tabulate(table, headers = ['Probabilities', 'N', 'Average R', 'N1', '# algo found best coin ( / 1000)']))"
      ],
      "execution_count": 23,
      "outputs": [
        {
          "output_type": "stream",
          "name": "stdout",
          "text": [
            "Probabilities         N    Average R    N1    # algo found best coin ( / 1000)\n",
            "-----------------  ----  -----------  ----  ----------------------------------\n",
            "[0.2, 0.4, 0.7]      20       10.818     6                                 689\n",
            "[0.2, 0.4, 0.7]     100       60.6      24                                 878\n",
            "[0.2, 0.4, 0.7]    1000      678.636    69                                 987\n",
            "[0.2, 0.4, 0.7]    5000     3469.82    111                                 998\n",
            "[0.45, 0.5, 0.58]    20       10.326     3                                 426\n",
            "[0.45, 0.5, 0.58]    20       10.397     6                                 433\n",
            "[0.45, 0.5, 0.58]   100       51.632     3                                 414\n",
            "[0.45, 0.5, 0.58]  1000      515.098     3                                 410\n",
            "[0.45, 0.5, 0.58]  5000     2593.01      3                                 432\n"
          ]
        }
      ]
    },
    {
      "cell_type": "code",
      "metadata": {
        "id": "O2rolWN9J9Xf"
      },
      "source": [
        ""
      ],
      "execution_count": null,
      "outputs": []
    }
  ]
}