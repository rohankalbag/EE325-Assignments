{
  "nbformat": 4,
  "nbformat_minor": 0,
  "metadata": {
    "colab": {
      "name": "Q1_parta.ipynb",
      "provenance": [],
      "authorship_tag": "ABX9TyPco9A7ZP9ykiPK9hF9Kz18",
      "include_colab_link": true
    },
    "kernelspec": {
      "name": "python3",
      "display_name": "Python 3"
    },
    "language_info": {
      "name": "python"
    },
    "widgets": {
      "application/vnd.jupyter.widget-state+json": {
        "3a4c49cdf8154b2bb1342b0f4c83b6c3": {
          "model_module": "@jupyter-widgets/controls",
          "model_name": "HBoxModel",
          "model_module_version": "1.5.0",
          "state": {
            "_view_name": "HBoxView",
            "_dom_classes": [],
            "_model_name": "HBoxModel",
            "_view_module": "@jupyter-widgets/controls",
            "_model_module_version": "1.5.0",
            "_view_count": null,
            "_view_module_version": "1.5.0",
            "box_style": "",
            "layout": "IPY_MODEL_01334029c93f42fca09a04526f01b117",
            "_model_module": "@jupyter-widgets/controls",
            "children": [
              "IPY_MODEL_d73384c909d34dc79858066ec5ed848b",
              "IPY_MODEL_5dd8526ede254f72b1b72c080fcf9628",
              "IPY_MODEL_2281b80eea5e44e396dfe5c2b3405913"
            ]
          }
        },
        "01334029c93f42fca09a04526f01b117": {
          "model_module": "@jupyter-widgets/base",
          "model_name": "LayoutModel",
          "model_module_version": "1.2.0",
          "state": {
            "_view_name": "LayoutView",
            "grid_template_rows": null,
            "right": null,
            "justify_content": null,
            "_view_module": "@jupyter-widgets/base",
            "overflow": null,
            "_model_module_version": "1.2.0",
            "_view_count": null,
            "flex_flow": null,
            "width": null,
            "min_width": null,
            "border": null,
            "align_items": null,
            "bottom": null,
            "_model_module": "@jupyter-widgets/base",
            "top": null,
            "grid_column": null,
            "overflow_y": null,
            "overflow_x": null,
            "grid_auto_flow": null,
            "grid_area": null,
            "grid_template_columns": null,
            "flex": null,
            "_model_name": "LayoutModel",
            "justify_items": null,
            "grid_row": null,
            "max_height": null,
            "align_content": null,
            "visibility": null,
            "align_self": null,
            "height": null,
            "min_height": null,
            "padding": null,
            "grid_auto_rows": null,
            "grid_gap": null,
            "max_width": null,
            "order": null,
            "_view_module_version": "1.2.0",
            "grid_template_areas": null,
            "object_position": null,
            "object_fit": null,
            "grid_auto_columns": null,
            "margin": null,
            "display": null,
            "left": null
          }
        },
        "d73384c909d34dc79858066ec5ed848b": {
          "model_module": "@jupyter-widgets/controls",
          "model_name": "HTMLModel",
          "model_module_version": "1.5.0",
          "state": {
            "_view_name": "HTMLView",
            "style": "IPY_MODEL_927d6bc3b5614000b8fc2eba52245699",
            "_dom_classes": [],
            "description": "",
            "_model_name": "HTMLModel",
            "placeholder": "​",
            "_view_module": "@jupyter-widgets/controls",
            "_model_module_version": "1.5.0",
            "value": " 25%",
            "_view_count": null,
            "_view_module_version": "1.5.0",
            "description_tooltip": null,
            "_model_module": "@jupyter-widgets/controls",
            "layout": "IPY_MODEL_045f3573be2c44518055a460ef9f0f1b"
          }
        },
        "5dd8526ede254f72b1b72c080fcf9628": {
          "model_module": "@jupyter-widgets/controls",
          "model_name": "FloatProgressModel",
          "model_module_version": "1.5.0",
          "state": {
            "_view_name": "ProgressView",
            "style": "IPY_MODEL_5cabd64861fb446088db7a2085a68e43",
            "_dom_classes": [],
            "description": "",
            "_model_name": "FloatProgressModel",
            "bar_style": "",
            "max": 16304000,
            "_view_module": "@jupyter-widgets/controls",
            "_model_module_version": "1.5.0",
            "value": 4076000,
            "_view_count": null,
            "_view_module_version": "1.5.0",
            "orientation": "horizontal",
            "min": 0,
            "description_tooltip": null,
            "_model_module": "@jupyter-widgets/controls",
            "layout": "IPY_MODEL_23316d8f49bf4762b282d73688c36980"
          }
        },
        "2281b80eea5e44e396dfe5c2b3405913": {
          "model_module": "@jupyter-widgets/controls",
          "model_name": "HTMLModel",
          "model_module_version": "1.5.0",
          "state": {
            "_view_name": "HTMLView",
            "style": "IPY_MODEL_6cc91096139a4bc8b6d5c62314a5fe77",
            "_dom_classes": [],
            "description": "",
            "_model_name": "HTMLModel",
            "placeholder": "​",
            "_view_module": "@jupyter-widgets/controls",
            "_model_module_version": "1.5.0",
            "value": " 4076000/16304000 [1:21:39&lt;4:50:00, 702.76it/s]",
            "_view_count": null,
            "_view_module_version": "1.5.0",
            "description_tooltip": null,
            "_model_module": "@jupyter-widgets/controls",
            "layout": "IPY_MODEL_4c52326cb68e49c283a3578b2e847221"
          }
        },
        "927d6bc3b5614000b8fc2eba52245699": {
          "model_module": "@jupyter-widgets/controls",
          "model_name": "DescriptionStyleModel",
          "model_module_version": "1.5.0",
          "state": {
            "_view_name": "StyleView",
            "_model_name": "DescriptionStyleModel",
            "description_width": "",
            "_view_module": "@jupyter-widgets/base",
            "_model_module_version": "1.5.0",
            "_view_count": null,
            "_view_module_version": "1.2.0",
            "_model_module": "@jupyter-widgets/controls"
          }
        },
        "045f3573be2c44518055a460ef9f0f1b": {
          "model_module": "@jupyter-widgets/base",
          "model_name": "LayoutModel",
          "model_module_version": "1.2.0",
          "state": {
            "_view_name": "LayoutView",
            "grid_template_rows": null,
            "right": null,
            "justify_content": null,
            "_view_module": "@jupyter-widgets/base",
            "overflow": null,
            "_model_module_version": "1.2.0",
            "_view_count": null,
            "flex_flow": null,
            "width": null,
            "min_width": null,
            "border": null,
            "align_items": null,
            "bottom": null,
            "_model_module": "@jupyter-widgets/base",
            "top": null,
            "grid_column": null,
            "overflow_y": null,
            "overflow_x": null,
            "grid_auto_flow": null,
            "grid_area": null,
            "grid_template_columns": null,
            "flex": null,
            "_model_name": "LayoutModel",
            "justify_items": null,
            "grid_row": null,
            "max_height": null,
            "align_content": null,
            "visibility": null,
            "align_self": null,
            "height": null,
            "min_height": null,
            "padding": null,
            "grid_auto_rows": null,
            "grid_gap": null,
            "max_width": null,
            "order": null,
            "_view_module_version": "1.2.0",
            "grid_template_areas": null,
            "object_position": null,
            "object_fit": null,
            "grid_auto_columns": null,
            "margin": null,
            "display": null,
            "left": null
          }
        },
        "5cabd64861fb446088db7a2085a68e43": {
          "model_module": "@jupyter-widgets/controls",
          "model_name": "ProgressStyleModel",
          "model_module_version": "1.5.0",
          "state": {
            "_view_name": "StyleView",
            "_model_name": "ProgressStyleModel",
            "description_width": "",
            "_view_module": "@jupyter-widgets/base",
            "_model_module_version": "1.5.0",
            "_view_count": null,
            "_view_module_version": "1.2.0",
            "bar_color": null,
            "_model_module": "@jupyter-widgets/controls"
          }
        },
        "23316d8f49bf4762b282d73688c36980": {
          "model_module": "@jupyter-widgets/base",
          "model_name": "LayoutModel",
          "model_module_version": "1.2.0",
          "state": {
            "_view_name": "LayoutView",
            "grid_template_rows": null,
            "right": null,
            "justify_content": null,
            "_view_module": "@jupyter-widgets/base",
            "overflow": null,
            "_model_module_version": "1.2.0",
            "_view_count": null,
            "flex_flow": null,
            "width": null,
            "min_width": null,
            "border": null,
            "align_items": null,
            "bottom": null,
            "_model_module": "@jupyter-widgets/base",
            "top": null,
            "grid_column": null,
            "overflow_y": null,
            "overflow_x": null,
            "grid_auto_flow": null,
            "grid_area": null,
            "grid_template_columns": null,
            "flex": null,
            "_model_name": "LayoutModel",
            "justify_items": null,
            "grid_row": null,
            "max_height": null,
            "align_content": null,
            "visibility": null,
            "align_self": null,
            "height": null,
            "min_height": null,
            "padding": null,
            "grid_auto_rows": null,
            "grid_gap": null,
            "max_width": null,
            "order": null,
            "_view_module_version": "1.2.0",
            "grid_template_areas": null,
            "object_position": null,
            "object_fit": null,
            "grid_auto_columns": null,
            "margin": null,
            "display": null,
            "left": null
          }
        },
        "6cc91096139a4bc8b6d5c62314a5fe77": {
          "model_module": "@jupyter-widgets/controls",
          "model_name": "DescriptionStyleModel",
          "model_module_version": "1.5.0",
          "state": {
            "_view_name": "StyleView",
            "_model_name": "DescriptionStyleModel",
            "description_width": "",
            "_view_module": "@jupyter-widgets/base",
            "_model_module_version": "1.5.0",
            "_view_count": null,
            "_view_module_version": "1.2.0",
            "_model_module": "@jupyter-widgets/controls"
          }
        },
        "4c52326cb68e49c283a3578b2e847221": {
          "model_module": "@jupyter-widgets/base",
          "model_name": "LayoutModel",
          "model_module_version": "1.2.0",
          "state": {
            "_view_name": "LayoutView",
            "grid_template_rows": null,
            "right": null,
            "justify_content": null,
            "_view_module": "@jupyter-widgets/base",
            "overflow": null,
            "_model_module_version": "1.2.0",
            "_view_count": null,
            "flex_flow": null,
            "width": null,
            "min_width": null,
            "border": null,
            "align_items": null,
            "bottom": null,
            "_model_module": "@jupyter-widgets/base",
            "top": null,
            "grid_column": null,
            "overflow_y": null,
            "overflow_x": null,
            "grid_auto_flow": null,
            "grid_area": null,
            "grid_template_columns": null,
            "flex": null,
            "_model_name": "LayoutModel",
            "justify_items": null,
            "grid_row": null,
            "max_height": null,
            "align_content": null,
            "visibility": null,
            "align_self": null,
            "height": null,
            "min_height": null,
            "padding": null,
            "grid_auto_rows": null,
            "grid_gap": null,
            "max_width": null,
            "order": null,
            "_view_module_version": "1.2.0",
            "grid_template_areas": null,
            "object_position": null,
            "object_fit": null,
            "grid_auto_columns": null,
            "margin": null,
            "display": null,
            "left": null
          }
        }
      }
    }
  },
  "cells": [
    {
      "cell_type": "markdown",
      "metadata": {
        "id": "view-in-github",
        "colab_type": "text"
      },
      "source": [
        "<a href=\"https://colab.research.google.com/github/rohankalbag/EE325-Assignment-Repo/blob/main/Q1_parta.ipynb\" target=\"_parent\"><img src=\"https://colab.research.google.com/assets/colab-badge.svg\" alt=\"Open In Colab\"/></a>"
      ]
    },
    {
      "cell_type": "code",
      "metadata": {
        "id": "T7sx5-pXkUZM"
      },
      "source": [
        "import numpy as np\n",
        "import random\n",
        "import matplotlib as plt\n",
        "from tqdm.auto import tqdm\n",
        "from tabulate import tabulate"
      ],
      "execution_count": 86,
      "outputs": []
    },
    {
      "cell_type": "code",
      "metadata": {
        "id": "gTxJgjLxmVD7"
      },
      "source": [
        "random.seed(42)"
      ],
      "execution_count": 6,
      "outputs": []
    },
    {
      "cell_type": "code",
      "metadata": {
        "id": "QwjkGUwHlXfA"
      },
      "source": [
        "# Format matplotlib for good looking plots\n",
        "plt.style.use('ggplot')\n",
        "plt.rcParams['figure.figsize'] = (15,10)"
      ],
      "execution_count": 3,
      "outputs": []
    },
    {
      "cell_type": "code",
      "metadata": {
        "id": "TRwJL73Pmj2b"
      },
      "source": [
        "def rand_coin(p):\n",
        "  return 1*(random.random()<p)\n",
        "\n",
        "def E_p(p,k):\n",
        "  return sum([rand_coin(p) for i in range(k)])/k"
      ],
      "execution_count": 38,
      "outputs": []
    },
    {
      "cell_type": "code",
      "metadata": {
        "id": "XMElcCoel9ct"
      },
      "source": [
        "def algoA(N,k,P):\n",
        "  exp_P = [E_p(p,k) for p in P]\n",
        "  n = [round(k*p) for p in exp_P]\n",
        "  t = rand_coin(0.5)\n",
        "  ind = t*exp_P.index(max(exp_P))+(1-t)*(2-exp_P[::-1].index(max(exp_P)))\n",
        "  max_p = P[ind]\n",
        "  R = sum(n) + (N-3*k)*E_p(max_p,N-3*k)\n",
        "  return R,ind"
      ],
      "execution_count": 69,
      "outputs": []
    },
    {
      "cell_type": "code",
      "metadata": {
        "id": "L8-X4tO1uzXS"
      },
      "source": [
        "P_all = [[0.2,0.4,0.7],[0.45,0.5,0.8]]\n",
        "\n",
        "N = [20,100,1000,5000]"
      ],
      "execution_count": 108,
      "outputs": []
    },
    {
      "cell_type": "code",
      "metadata": {
        "colab": {
          "base_uri": "https://localhost:8080/",
          "height": 183,
          "referenced_widgets": [
            "3a4c49cdf8154b2bb1342b0f4c83b6c3",
            "01334029c93f42fca09a04526f01b117",
            "d73384c909d34dc79858066ec5ed848b",
            "5dd8526ede254f72b1b72c080fcf9628",
            "2281b80eea5e44e396dfe5c2b3405913",
            "927d6bc3b5614000b8fc2eba52245699",
            "045f3573be2c44518055a460ef9f0f1b",
            "5cabd64861fb446088db7a2085a68e43",
            "23316d8f49bf4762b282d73688c36980",
            "6cc91096139a4bc8b6d5c62314a5fe77",
            "4c52326cb68e49c283a3578b2e847221"
          ]
        },
        "id": "7B_Uf8Msm3UU",
        "outputId": "ebc72f08-9812-49be-beff-cf7c1ef12fbc"
      },
      "source": [
        "all_sims = {'N':[],'P':[],'N1':[],'R_avg':[],'count_best':[]}\n",
        "num_steps = len(P_all)*len(N)*sum([n//3 for n in N])*1000\n",
        "progress_bar = tqdm(range(num_steps))\n",
        "for P in P_all:\n",
        "  for N0 in N:\n",
        "    best_N1 = 0\n",
        "    best_R = 0\n",
        "    best_count = 0\n",
        "    for k in range(1,N0//3+1):\n",
        "      R = []\n",
        "      best_coin = []\n",
        "      for i in range(1000):\n",
        "        r, c = algoA(N0,k,P)\n",
        "        R.append(r)\n",
        "        best_coin.append(c)\n",
        "        progress_bar.update(1)\n",
        "      R_avg = sum(R)/len(R)\n",
        "      count_best = sum([i == P.index(max(P)) for i in best_coin])\n",
        "      all_sims['N'].append(N0)\n",
        "      all_sims['P'].append(P)\n",
        "      all_sims['N1'].append(3*k)\n",
        "      all_sims['R_avg'].append(R_avg)\n",
        "      all_sims['count_best'].append(count_best)\n",
        "      if R_avg>best_R:\n",
        "        best_R = R_avg\n",
        "        best_N1 = 3*k\n",
        "        best_count = count_best\n",
        "    print('For P = [{},{},{}], N = {}\\t best R_avg = {:0.3f} for N1 = {}\\t also count = {}/1000'.format(P[0],P[1],P[2],N0,best_R,best_N1,best_count))"
      ],
      "execution_count": 113,
      "outputs": [
        {
          "output_type": "display_data",
          "data": {
            "application/vnd.jupyter.widget-view+json": {
              "model_id": "3a4c49cdf8154b2bb1342b0f4c83b6c3",
              "version_minor": 0,
              "version_major": 2
            },
            "text/plain": [
              "  0%|          | 0/16304000 [00:00<?, ?it/s]"
            ]
          },
          "metadata": {}
        },
        {
          "output_type": "stream",
          "name": "stdout",
          "text": [
            "For P = [0.2,0.4,0.7], N = 20\t best R_avg = 10.637 for N1 = 9\t also count = 747/1000\n",
            "For P = [0.2,0.4,0.7], N = 100\t best R_avg = 61.020 for N1 = 21\t also count = 869/1000\n",
            "For P = [0.2,0.4,0.7], N = 1000\t best R_avg = 677.649 for N1 = 60\t also count = 977/1000\n",
            "For P = [0.2,0.4,0.7], N = 5000\t best R_avg = 3467.993 for N1 = 96\t also count = 995/1000\n",
            "For P = [0.45,0.5,0.8], N = 20\t best R_avg = 12.968 for N1 = 9\t also count = 707/1000\n",
            "For P = [0.45,0.5,0.8], N = 100\t best R_avg = 71.467 for N1 = 30\t also count = 898/1000\n",
            "For P = [0.45,0.5,0.8], N = 1000\t best R_avg = 780.657 for N1 = 66\t also count = 983/1000\n",
            "For P = [0.45,0.5,0.8], N = 5000\t best R_avg = 3977.977 for N1 = 105\t also count = 1000/1000\n"
          ]
        }
      ]
    },
    {
      "cell_type": "code",
      "metadata": {
        "id": "X-XhMUT_51ni"
      },
      "source": [
        ""
      ],
      "execution_count": null,
      "outputs": []
    }
  ]
}
