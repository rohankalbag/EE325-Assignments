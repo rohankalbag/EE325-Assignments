{
  "nbformat": 4,
  "nbformat_minor": 0,
  "metadata": {
    "colab": {
      "name": "Q1_partb.ipynb",
      "provenance": [],
      "authorship_tag": "ABX9TyNQkE9KLAun81qMGcHm75Fg",
      "include_colab_link": true
    },
    "kernelspec": {
      "name": "python3",
      "display_name": "Python 3"
    },
    "language_info": {
      "name": "python"
    },
    "widgets": {
      "application/vnd.jupyter.widget-state+json": {
        "8566fc441674428a91364b601437d2c2": {
          "model_module": "@jupyter-widgets/controls",
          "model_name": "HBoxModel",
          "model_module_version": "1.5.0",
          "state": {
            "_view_name": "HBoxView",
            "_dom_classes": [],
            "_model_name": "HBoxModel",
            "_view_module": "@jupyter-widgets/controls",
            "_model_module_version": "1.5.0",
            "_view_count": null,
            "_view_module_version": "1.5.0",
            "box_style": "",
            "layout": "IPY_MODEL_44ff716e1fac42c8994ca39de3d961f5",
            "_model_module": "@jupyter-widgets/controls",
            "children": [
              "IPY_MODEL_0eabef0f8fdd4bdfb6c34aaec247b580",
              "IPY_MODEL_d1218a68d51e4adea9fa398a8cdd27eb",
              "IPY_MODEL_b7c18a99920e4c50b2d158952ad35ec3"
            ]
          }
        },
        "44ff716e1fac42c8994ca39de3d961f5": {
          "model_module": "@jupyter-widgets/base",
          "model_name": "LayoutModel",
          "model_module_version": "1.2.0",
          "state": {
            "_view_name": "LayoutView",
            "grid_template_rows": null,
            "right": null,
            "justify_content": null,
            "_view_module": "@jupyter-widgets/base",
            "overflow": null,
            "_model_module_version": "1.2.0",
            "_view_count": null,
            "flex_flow": null,
            "width": null,
            "min_width": null,
            "border": null,
            "align_items": null,
            "bottom": null,
            "_model_module": "@jupyter-widgets/base",
            "top": null,
            "grid_column": null,
            "overflow_y": null,
            "overflow_x": null,
            "grid_auto_flow": null,
            "grid_area": null,
            "grid_template_columns": null,
            "flex": null,
            "_model_name": "LayoutModel",
            "justify_items": null,
            "grid_row": null,
            "max_height": null,
            "align_content": null,
            "visibility": null,
            "align_self": null,
            "height": null,
            "min_height": null,
            "padding": null,
            "grid_auto_rows": null,
            "grid_gap": null,
            "max_width": null,
            "order": null,
            "_view_module_version": "1.2.0",
            "grid_template_areas": null,
            "object_position": null,
            "object_fit": null,
            "grid_auto_columns": null,
            "margin": null,
            "display": null,
            "left": null
          }
        },
        "0eabef0f8fdd4bdfb6c34aaec247b580": {
          "model_module": "@jupyter-widgets/controls",
          "model_name": "HTMLModel",
          "model_module_version": "1.5.0",
          "state": {
            "_view_name": "HTMLView",
            "style": "IPY_MODEL_c7f8fa4f765b4afea622aadec63ae62f",
            "_dom_classes": [],
            "description": "",
            "_model_name": "HTMLModel",
            "placeholder": "​",
            "_view_module": "@jupyter-widgets/controls",
            "_model_module_version": "1.5.0",
            "value": "100%",
            "_view_count": null,
            "_view_module_version": "1.5.0",
            "description_tooltip": null,
            "_model_module": "@jupyter-widgets/controls",
            "layout": "IPY_MODEL_9e7942fa54c449b3a3c126048983ccaf"
          }
        },
        "d1218a68d51e4adea9fa398a8cdd27eb": {
          "model_module": "@jupyter-widgets/controls",
          "model_name": "FloatProgressModel",
          "model_module_version": "1.5.0",
          "state": {
            "_view_name": "ProgressView",
            "style": "IPY_MODEL_77954e85eb774783bdd68c6c385ab89f",
            "_dom_classes": [],
            "description": "",
            "_model_name": "FloatProgressModel",
            "bar_style": "",
            "max": 24000,
            "_view_module": "@jupyter-widgets/controls",
            "_model_module_version": "1.5.0",
            "value": 24000,
            "_view_count": null,
            "_view_module_version": "1.5.0",
            "orientation": "horizontal",
            "min": 0,
            "description_tooltip": null,
            "_model_module": "@jupyter-widgets/controls",
            "layout": "IPY_MODEL_68991512e6ba40e5b7f0f506ecddc788"
          }
        },
        "b7c18a99920e4c50b2d158952ad35ec3": {
          "model_module": "@jupyter-widgets/controls",
          "model_name": "HTMLModel",
          "model_module_version": "1.5.0",
          "state": {
            "_view_name": "HTMLView",
            "style": "IPY_MODEL_f59dd239d8de4eb58b66f0422496c536",
            "_dom_classes": [],
            "description": "",
            "_model_name": "HTMLModel",
            "placeholder": "​",
            "_view_module": "@jupyter-widgets/controls",
            "_model_module_version": "1.5.0",
            "value": " 24000/24000 [01:44&lt;00:00, 87.44it/s]",
            "_view_count": null,
            "_view_module_version": "1.5.0",
            "description_tooltip": null,
            "_model_module": "@jupyter-widgets/controls",
            "layout": "IPY_MODEL_0e1b1669afdc462d8d47754619866acc"
          }
        },
        "c7f8fa4f765b4afea622aadec63ae62f": {
          "model_module": "@jupyter-widgets/controls",
          "model_name": "DescriptionStyleModel",
          "model_module_version": "1.5.0",
          "state": {
            "_view_name": "StyleView",
            "_model_name": "DescriptionStyleModel",
            "description_width": "",
            "_view_module": "@jupyter-widgets/base",
            "_model_module_version": "1.5.0",
            "_view_count": null,
            "_view_module_version": "1.2.0",
            "_model_module": "@jupyter-widgets/controls"
          }
        },
        "9e7942fa54c449b3a3c126048983ccaf": {
          "model_module": "@jupyter-widgets/base",
          "model_name": "LayoutModel",
          "model_module_version": "1.2.0",
          "state": {
            "_view_name": "LayoutView",
            "grid_template_rows": null,
            "right": null,
            "justify_content": null,
            "_view_module": "@jupyter-widgets/base",
            "overflow": null,
            "_model_module_version": "1.2.0",
            "_view_count": null,
            "flex_flow": null,
            "width": null,
            "min_width": null,
            "border": null,
            "align_items": null,
            "bottom": null,
            "_model_module": "@jupyter-widgets/base",
            "top": null,
            "grid_column": null,
            "overflow_y": null,
            "overflow_x": null,
            "grid_auto_flow": null,
            "grid_area": null,
            "grid_template_columns": null,
            "flex": null,
            "_model_name": "LayoutModel",
            "justify_items": null,
            "grid_row": null,
            "max_height": null,
            "align_content": null,
            "visibility": null,
            "align_self": null,
            "height": null,
            "min_height": null,
            "padding": null,
            "grid_auto_rows": null,
            "grid_gap": null,
            "max_width": null,
            "order": null,
            "_view_module_version": "1.2.0",
            "grid_template_areas": null,
            "object_position": null,
            "object_fit": null,
            "grid_auto_columns": null,
            "margin": null,
            "display": null,
            "left": null
          }
        },
        "77954e85eb774783bdd68c6c385ab89f": {
          "model_module": "@jupyter-widgets/controls",
          "model_name": "ProgressStyleModel",
          "model_module_version": "1.5.0",
          "state": {
            "_view_name": "StyleView",
            "_model_name": "ProgressStyleModel",
            "description_width": "",
            "_view_module": "@jupyter-widgets/base",
            "_model_module_version": "1.5.0",
            "_view_count": null,
            "_view_module_version": "1.2.0",
            "bar_color": null,
            "_model_module": "@jupyter-widgets/controls"
          }
        },
        "68991512e6ba40e5b7f0f506ecddc788": {
          "model_module": "@jupyter-widgets/base",
          "model_name": "LayoutModel",
          "model_module_version": "1.2.0",
          "state": {
            "_view_name": "LayoutView",
            "grid_template_rows": null,
            "right": null,
            "justify_content": null,
            "_view_module": "@jupyter-widgets/base",
            "overflow": null,
            "_model_module_version": "1.2.0",
            "_view_count": null,
            "flex_flow": null,
            "width": null,
            "min_width": null,
            "border": null,
            "align_items": null,
            "bottom": null,
            "_model_module": "@jupyter-widgets/base",
            "top": null,
            "grid_column": null,
            "overflow_y": null,
            "overflow_x": null,
            "grid_auto_flow": null,
            "grid_area": null,
            "grid_template_columns": null,
            "flex": null,
            "_model_name": "LayoutModel",
            "justify_items": null,
            "grid_row": null,
            "max_height": null,
            "align_content": null,
            "visibility": null,
            "align_self": null,
            "height": null,
            "min_height": null,
            "padding": null,
            "grid_auto_rows": null,
            "grid_gap": null,
            "max_width": null,
            "order": null,
            "_view_module_version": "1.2.0",
            "grid_template_areas": null,
            "object_position": null,
            "object_fit": null,
            "grid_auto_columns": null,
            "margin": null,
            "display": null,
            "left": null
          }
        },
        "f59dd239d8de4eb58b66f0422496c536": {
          "model_module": "@jupyter-widgets/controls",
          "model_name": "DescriptionStyleModel",
          "model_module_version": "1.5.0",
          "state": {
            "_view_name": "StyleView",
            "_model_name": "DescriptionStyleModel",
            "description_width": "",
            "_view_module": "@jupyter-widgets/base",
            "_model_module_version": "1.5.0",
            "_view_count": null,
            "_view_module_version": "1.2.0",
            "_model_module": "@jupyter-widgets/controls"
          }
        },
        "0e1b1669afdc462d8d47754619866acc": {
          "model_module": "@jupyter-widgets/base",
          "model_name": "LayoutModel",
          "model_module_version": "1.2.0",
          "state": {
            "_view_name": "LayoutView",
            "grid_template_rows": null,
            "right": null,
            "justify_content": null,
            "_view_module": "@jupyter-widgets/base",
            "overflow": null,
            "_model_module_version": "1.2.0",
            "_view_count": null,
            "flex_flow": null,
            "width": null,
            "min_width": null,
            "border": null,
            "align_items": null,
            "bottom": null,
            "_model_module": "@jupyter-widgets/base",
            "top": null,
            "grid_column": null,
            "overflow_y": null,
            "overflow_x": null,
            "grid_auto_flow": null,
            "grid_area": null,
            "grid_template_columns": null,
            "flex": null,
            "_model_name": "LayoutModel",
            "justify_items": null,
            "grid_row": null,
            "max_height": null,
            "align_content": null,
            "visibility": null,
            "align_self": null,
            "height": null,
            "min_height": null,
            "padding": null,
            "grid_auto_rows": null,
            "grid_gap": null,
            "max_width": null,
            "order": null,
            "_view_module_version": "1.2.0",
            "grid_template_areas": null,
            "object_position": null,
            "object_fit": null,
            "grid_auto_columns": null,
            "margin": null,
            "display": null,
            "left": null
          }
        }
      }
    }
  },
  "cells": [
    {
      "cell_type": "markdown",
      "metadata": {
        "id": "view-in-github",
        "colab_type": "text"
      },
      "source": [
        "<a href=\"https://colab.research.google.com/github/rohankalbag/EE325-Assignment-Repo/blob/main/Q1_partb.ipynb\" target=\"_parent\"><img src=\"https://colab.research.google.com/assets/colab-badge.svg\" alt=\"Open In Colab\"/></a>"
      ]
    },
    {
      "cell_type": "code",
      "metadata": {
        "id": "BNiqLOnECyXs"
      },
      "source": [
        "import numpy as np\n",
        "import math\n",
        "import random\n",
        "import matplotlib as plt\n",
        "from tqdm.auto import tqdm\n",
        "from tabulate import tabulate"
      ],
      "execution_count": 13,
      "outputs": []
    },
    {
      "cell_type": "code",
      "metadata": {
        "id": "swbRRg0IC01s"
      },
      "source": [
        "random.seed(42)"
      ],
      "execution_count": 2,
      "outputs": []
    },
    {
      "cell_type": "code",
      "metadata": {
        "id": "zZ49dIOtC2bN"
      },
      "source": [
        "# Format matplotlib for good looking plots\n",
        "plt.style.use('ggplot')\n",
        "plt.rcParams['figure.figsize'] = (15,10)"
      ],
      "execution_count": 3,
      "outputs": []
    },
    {
      "cell_type": "code",
      "metadata": {
        "id": "RoP18ZmUEErS"
      },
      "source": [
        "def rand_coin(p):\n",
        "  return 1*(random.random()<p)"
      ],
      "execution_count": 17,
      "outputs": []
    },
    {
      "cell_type": "code",
      "metadata": {
        "id": "QcAfZEluC3vA"
      },
      "source": [
        "def max_ind(UCB):\n",
        "  UCB_max = max(UCB)\n",
        "  count = sum([ucb == UCB_max for ucb in UCB])\n",
        "  if(count == 1):\n",
        "    return UCB.index(UCB_max)\n",
        "  elif(count == 2):\n",
        "    t = rand_coin(0.5)\n",
        "    return t*(UCB.index(UCB_max))+(1-t)*(2-(UCB[::-1].index(UCB_max)))\n",
        "  else:\n",
        "    return random.randint(0,2)"
      ],
      "execution_count": 20,
      "outputs": []
    },
    {
      "cell_type": "code",
      "metadata": {
        "id": "fohFTn1xC82I"
      },
      "source": [
        "def algoB(N,P,alpha):\n",
        "  n = [0,0,0]\n",
        "  k = [0,0,0]\n",
        "  X = [0,0,0]\n",
        "  UCB = [float('inf'),float('inf'),float('inf')]\n",
        "  for i in range(1,N+1):\n",
        "    ind = max_ind(UCB)\n",
        "    k[ind] +=1\n",
        "    n[ind] += rand_coin(P[ind])\n",
        "    UCB[ind] = n[ind]/k[ind] + (-math.log(alpha)/(2*k[ind]))**0.5\n",
        "  R = sum(n)\n",
        "  return  R, k[P.index(max(P))]"
      ],
      "execution_count": 27,
      "outputs": []
    },
    {
      "cell_type": "code",
      "metadata": {
        "colab": {
          "base_uri": "https://localhost:8080/"
        },
        "id": "CFGXrhZFDab7",
        "outputId": "e042a778-da26-4867-f230-a721a2f67e82"
      },
      "source": [
        "algoB(1000,[0.2,0.4,0.7],0.01)"
      ],
      "execution_count": 29,
      "outputs": [
        {
          "output_type": "execute_result",
          "data": {
            "text/plain": [
              "(688, 973)"
            ]
          },
          "metadata": {},
          "execution_count": 29
        }
      ]
    },
    {
      "cell_type": "code",
      "metadata": {
        "id": "ksCOtU5ADbhy"
      },
      "source": [
        "P_all = [[0.2,0.4,0.7],[0.45,0.5,0.8]]\n",
        "\n",
        "N = [20,100,1000,5000]\n",
        "alphas = [0.1,0.05,0.1]"
      ],
      "execution_count": 41,
      "outputs": []
    },
    {
      "cell_type": "code",
      "metadata": {
        "colab": {
          "base_uri": "https://localhost:8080/",
          "height": 49,
          "referenced_widgets": [
            "8566fc441674428a91364b601437d2c2",
            "44ff716e1fac42c8994ca39de3d961f5",
            "0eabef0f8fdd4bdfb6c34aaec247b580",
            "d1218a68d51e4adea9fa398a8cdd27eb",
            "b7c18a99920e4c50b2d158952ad35ec3",
            "c7f8fa4f765b4afea622aadec63ae62f",
            "9e7942fa54c449b3a3c126048983ccaf",
            "77954e85eb774783bdd68c6c385ab89f",
            "68991512e6ba40e5b7f0f506ecddc788",
            "f59dd239d8de4eb58b66f0422496c536",
            "0e1b1669afdc462d8d47754619866acc"
          ]
        },
        "id": "kr83N8CmD0LC",
        "outputId": "866fb483-b60a-4879-e8d6-8c5ea48ea2aa"
      },
      "source": [
        "# all_sims = {'N':[],'P':[],'avg_num_heads':[],'num_corr':[]}\n",
        "table = []\n",
        "num_steps = len(P_all)*len(N)*len(alphas)*1000\n",
        "progress_bar = tqdm(range(num_steps))\n",
        "for P in P_all:\n",
        "  for N0 in N:\n",
        "    for alpha in alphas:\n",
        "      num_heads = []\n",
        "      num_corr = []\n",
        "      for i in range(1000):\n",
        "        r, c = algoB(N0,P,alpha)\n",
        "        num_heads.append(r)\n",
        "        num_corr.append(c)\n",
        "        progress_bar.update(1)\n",
        "      heads_avg = sum(num_heads)/len(num_heads)\n",
        "      count_avg = sum(num_corr)/len(num_corr)\n",
        "      # all_sims['N'].append(N0)\n",
        "      # all_sims['P'].append(P)\n",
        "      # all_sims['avg_num_heads'].append(heads_avg)\n",
        "      # all_sims['num_corr'].append(num_corr)\n",
        "      table.append([P,N0,alpha,heads_avg,count_avg])"
      ],
      "execution_count": 42,
      "outputs": [
        {
          "output_type": "display_data",
          "data": {
            "application/vnd.jupyter.widget-view+json": {
              "model_id": "8566fc441674428a91364b601437d2c2",
              "version_minor": 0,
              "version_major": 2
            },
            "text/plain": [
              "  0%|          | 0/24000 [00:00<?, ?it/s]"
            ]
          },
          "metadata": {}
        }
      ]
    },
    {
      "cell_type": "code",
      "metadata": {
        "colab": {
          "base_uri": "https://localhost:8080/"
        },
        "id": "hKkWGJF1MhaY",
        "outputId": "0474c8be-c894-457a-e6fa-291bba17e9ee"
      },
      "source": [
        "print(tabulate(table, headers = ['Probabilites','N','alpha','Average # Heads','# times correct coin is used']))"
      ],
      "execution_count": 43,
      "outputs": [
        {
          "output_type": "stream",
          "name": "stdout",
          "text": [
            "Probabilites         N    alpha    Average # Heads    # times correct coin is used\n",
            "----------------  ----  -------  -----------------  ------------------------------\n",
            "[0.2, 0.4, 0.7]     20     0.1              11.213                          12.607\n",
            "[0.2, 0.4, 0.7]     20     0.05             11.051                          12.259\n",
            "[0.2, 0.4, 0.7]     20     0.1              11.306                          12.901\n",
            "[0.2, 0.4, 0.7]    100     0.1              65.358                          86.82\n",
            "[0.2, 0.4, 0.7]    100     0.05             64.558                          85.643\n",
            "[0.2, 0.4, 0.7]    100     0.1              65.507                          87.111\n",
            "[0.2, 0.4, 0.7]   1000     0.1             693.724                         981.988\n",
            "[0.2, 0.4, 0.7]   1000     0.05            693.57                          980.061\n",
            "[0.2, 0.4, 0.7]   1000     0.1             693.687                         981.453\n",
            "[0.2, 0.4, 0.7]   5000     0.1            3493.88                         4981.22\n",
            "[0.2, 0.4, 0.7]   5000     0.05           3493.03                         4978.23\n",
            "[0.2, 0.4, 0.7]   5000     0.1            3495.52                         4982.15\n",
            "[0.45, 0.5, 0.8]    20     0.1              13.472                          12.185\n",
            "[0.45, 0.5, 0.8]    20     0.05             13.31                           11.606\n",
            "[0.45, 0.5, 0.8]    20     0.1              13.544                          12.253\n",
            "[0.45, 0.5, 0.8]   100     0.1              74.773                          83.749\n",
            "[0.45, 0.5, 0.8]   100     0.05             74.467                          82.943\n",
            "[0.45, 0.5, 0.8]   100     0.1              74.824                          84.503\n",
            "[0.45, 0.5, 0.8]  1000     0.1             793.247                         979.143\n",
            "[0.45, 0.5, 0.8]  1000     0.05            791.783                         974.88\n",
            "[0.45, 0.5, 0.8]  1000     0.1             794.017                         979.92\n",
            "[0.45, 0.5, 0.8]  5000     0.1            3994.41                         4977.89\n",
            "[0.45, 0.5, 0.8]  5000     0.05           3990.3                          4971.75\n",
            "[0.45, 0.5, 0.8]  5000     0.1            3992.67                         4977.13\n"
          ]
        }
      ]
    },
    {
      "cell_type": "code",
      "metadata": {
        "id": "0TWfqRToWarH"
      },
      "source": [
        ""
      ],
      "execution_count": null,
      "outputs": []
    }
  ]
}
