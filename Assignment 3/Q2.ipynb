{
 "cells": [
  {
   "cell_type": "code",
   "execution_count": 3,
   "metadata": {},
   "outputs": [
    {
     "name": "stdout",
     "output_type": "stream",
     "text": [
      "Expectation of POS given k = 0 is 8.952828890567968e-13\n",
      "Expectation of POS given k = 1 is 1.1966947950392515e-10\n",
      "Expectation of POS given k = 2 is 8.937758295268844e-09\n",
      "Expectation of POS given k = 3 is 4.7210961541460933e-07\n",
      "Expectation of POS given k = 4 is 1.938099141005081e-05\n",
      "Expectation of POS given k = 5 is 0.0006513094125250141\n",
      "Expectation of POS given k = 6 is 0.018523807223234767\n",
      "Expectation of POS given k = 7 is 0.4563730909041587\n",
      "Expectation of POS given k = 8 is 9.909685863874346\n",
      "Expectation of POS given k = 9 is 192.19847691575438\n",
      "Expectation of POS given k = 10 is 3365.227272727273\n"
     ]
    }
   ],
   "source": [
    "from math import comb\n",
    "\n",
    "N = 200\n",
    "POS = 0\n",
    "k = 0\n",
    "for k in range(0,11):\n",
    "    exp = 0\n",
    "    for POS in range(k,201):\n",
    "        exp += POS*(comb(POS,k))/(comb(200,10))\n",
    "    print(\"Expectation of POS given k =\",k,\"is\",exp)\n"
   ]
  }
 ],
 "metadata": {
  "interpreter": {
   "hash": "fe06f96167c4fc64a78c238d993189072a4e72b444216e36203d6f96126eaf0a"
  },
  "kernelspec": {
   "display_name": "Python 3.9.0 64-bit",
   "name": "python3"
  },
  "language_info": {
   "codemirror_mode": {
    "name": "ipython",
    "version": 3
   },
   "file_extension": ".py",
   "mimetype": "text/x-python",
   "name": "python",
   "nbconvert_exporter": "python",
   "pygments_lexer": "ipython3",
   "version": "3.9.0"
  },
  "orig_nbformat": 4
 },
 "nbformat": 4,
 "nbformat_minor": 2
}
