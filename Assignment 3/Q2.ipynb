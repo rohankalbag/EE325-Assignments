{
 "cells": [
  {
   "cell_type": "markdown",
   "metadata": {},
   "source": [
    "## Part 1"
   ]
  },
  {
   "cell_type": "code",
   "execution_count": 1,
   "metadata": {},
   "outputs": [
    {
     "name": "stdout",
     "output_type": "stream",
     "text": [
      "Expectation of POS given k = 0 is 15.833333333333332\n",
      "Expectation of POS given k = 1 is 32.66666666666669\n",
      "Expectation of POS given k = 2 is 49.50000000000003\n",
      "Expectation of POS given k = 3 is 66.33333333333333\n",
      "Expectation of POS given k = 4 is 83.16666666666666\n",
      "Expectation of POS given k = 5 is 100.00000000000004\n",
      "Expectation of POS given k = 6 is 116.83333333333336\n",
      "Expectation of POS given k = 7 is 133.66666666666657\n",
      "Expectation of POS given k = 8 is 150.49999999999991\n",
      "Expectation of POS given k = 9 is 167.33333333333331\n",
      "Expectation of POS given k = 10 is 184.16666666666663\n"
     ]
    },
    {
     "data": {
      "image/png": "[encoded data removed]",
      "text/plain": [
       "<Figure size 432x288 with 1 Axes>"
      ]
     },
     "metadata": {
      "needs_background": "light"
     },
     "output_type": "display_data"
    }
   ],
   "source": [
    "import matplotlib.pyplot as plt\n",
    "from math import comb\n",
    "list1 = []\n",
    "N = 200\n",
    "POS = 0\n",
    "k = 0\n",
    "for k in range(0,11):\n",
    "    exp = 0\n",
    "    den = 0\n",
    "    for POS in range(k,201):\n",
    "        den += (comb(POS,k)*comb(200-POS,10-k))\n",
    "\n",
    "    for POS in range(k,201):\n",
    "        exp += POS*((comb(POS,k)*comb(200-POS,10-k))/den)\n",
    "    list1 += [exp]\n",
    "    print(\"Expectation of POS given k =\",k,\"is\",exp)\n",
    "plt.ylabel(\"Expectation of POS given k\")\n",
    "plt.xlabel(\"Values of k\")\n",
    "plt.bar(range(0,11),list1)\n",
    "plt.show()"
   ]
  },
  {
   "cell_type": "markdown",
   "metadata": {},
   "source": [
    "## Part 2"
   ]
  },
  {
   "cell_type": "code",
   "execution_count": 2,
   "metadata": {},
   "outputs": [
    {
     "name": "stdout",
     "output_type": "stream",
     "text": [
      "Probability is 0.4394734818052308\n"
     ]
    }
   ],
   "source": [
    "den = 0\n",
    "prob = 0\n",
    "for POS in range(2,201):\n",
    "       den += (comb(POS,2)*comb(200-POS,8))\n",
    "\n",
    "for POS in range(51,201):\n",
    "       prob += (comb(POS,2)*comb(200-POS,8))/den\n",
    "print(\"Probability is\",prob)"
   ]
  },
  {
   "cell_type": "markdown",
   "metadata": {},
   "source": [
    "## Part 3"
   ]
  },
  {
   "cell_type": "code",
   "execution_count": 3,
   "metadata": {},
   "outputs": [
    {
     "name": "stdout",
     "output_type": "stream",
     "text": [
      "Expectation of POS given k = 0 is 17.272727272727284\n",
      "Expectation of POS given k = 1 is 35.54545454545454\n",
      "Expectation of POS given k = 2 is 53.81818181818183\n",
      "Expectation of POS given k = 3 is 72.09090909090901\n",
      "Expectation of POS given k = 4 is 90.36363636363632\n",
      "Expectation of POS given k = 5 is 108.63636363636364\n",
      "Expectation of POS given k = 6 is 126.90909090909093\n",
      "Expectation of POS given k = 7 is 145.1818181818182\n",
      "Expectation of POS given k = 8 is 163.4545454545454\n",
      "Expectation of POS given k = 9 is 181.7272727272726\n",
      "Expectation of POS given k = 10 is 199.99999999999997\n",
      "Expectation of POS given k = 11 is 218.27272727272717\n",
      "Expectation of POS given k = 12 is 236.54545454545465\n",
      "Expectation of POS given k = 13 is 254.81818181818173\n",
      "Expectation of POS given k = 14 is 273.0909090909089\n",
      "Expectation of POS given k = 15 is 291.36363636363626\n",
      "Expectation of POS given k = 16 is 309.6363636363636\n",
      "Expectation of POS given k = 17 is 327.90909090909076\n",
      "Expectation of POS given k = 18 is 346.1818181818183\n",
      "Expectation of POS given k = 19 is 364.4545454545455\n",
      "Expectation of POS given k = 20 is 382.72727272727275\n"
     ]
    },
    {
     "data": {
      "image/png": "[encoded data removed]",
      "text/plain": [
       "<Figure size 432x288 with 1 Axes>"
      ]
     },
     "metadata": {
      "needs_background": "light"
     },
     "output_type": "display_data"
    }
   ],
   "source": [
    "list2 = []\n",
    "N = 400\n",
    "POS = 0\n",
    "k = 0\n",
    "for k in range(0,21):\n",
    "    exp = 0\n",
    "    den = 0\n",
    "    for POS in range(k,401):\n",
    "        den += (comb(POS,k)*comb(400-POS,20-k))\n",
    "\n",
    "    for POS in range(k,401):\n",
    "        exp += POS*((comb(POS,k)*comb(400-POS,20-k))/den)\n",
    "    print(\"Expectation of POS given k =\",k,\"is\",exp)\n",
    "    list2 += [exp]\n",
    "plt.ylabel(\"Expectation of POS given k\")\n",
    "plt.xlabel(\"Values of k\")\n",
    "plt.bar(range(0,21),list2)\n",
    "plt.show()"
   ]
  },
  {
   "cell_type": "code",
   "execution_count": 4,
   "metadata": {},
   "outputs": [
    {
     "name": "stdout",
     "output_type": "stream",
     "text": [
      "Probability is 0.43032311975004883\n"
     ]
    }
   ],
   "source": [
    "den = 0\n",
    "prob = 0\n",
    "for POS in range(2,401):\n",
    "       den += (comb(POS,2)*comb(400-POS,18))\n",
    "\n",
    "for POS in range(55,401):\n",
    "       prob += (comb(POS,2)*comb(400-POS,18))/den\n",
    "print(\"Probability is\",prob)"
   ]
  }
 ],
 "metadata": {
  "interpreter": {
   "hash": "fe06f96167c4fc64a78c238d993189072a4e72b444216e36203d6f96126eaf0a"
  },
  "kernelspec": {
   "display_name": "Python 3.9.0 64-bit",
   "name": "python3"
  },
  "language_info": {
   "codemirror_mode": {
    "name": "ipython",
    "version": 3
   },
   "file_extension": ".py",
   "mimetype": "text/x-python",
   "name": "python",
   "nbconvert_exporter": "python",
   "pygments_lexer": "ipython3",
   "version": "3.9.0"
  },
  "orig_nbformat": 4
 },
 "nbformat": 4,
 "nbformat_minor": 2
}
