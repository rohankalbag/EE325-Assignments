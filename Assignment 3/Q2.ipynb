{
 "cells": [
  {
   "cell_type": "code",
   "execution_count": 5,
   "metadata": {},
   "outputs": [
    {
     "name": "stdout",
     "output_type": "stream",
     "text": [
      "Expectation of POS given k = 0 is 20100.0\n",
      "Expectation of POS given k = 1 is 20000.0\n",
      "Expectation of POS given k = 2 is 19899.009950248757\n",
      "Expectation of POS given k = 3 is 19797.044776119405\n",
      "Expectation of POS given k = 4 is 19694.119402985074\n",
      "Expectation of POS given k = 5 is 19590.2487562189\n",
      "Expectation of POS given k = 6 is 19485.447761194027\n",
      "Expectation of POS given k = 7 is 19379.731343283584\n",
      "Expectation of POS given k = 8 is 19273.114427860695\n",
      "Expectation of POS given k = 9 is 19165.61194029851\n",
      "Expectation of POS given k = 10 is 19057.238805970144\n"
     ]
    }
   ],
   "source": [
    "from math import comb\n",
    "\n",
    "N = 200\n",
    "POS = 0\n",
    "k = 0\n",
    "for k in range(0,11):\n",
    "    exp = 0\n",
    "    den = 0\n",
    "    for POS in range(k,201):\n",
    "        den += (comb(POS,k)*comb(200-POS,10-k))\n",
    "\n",
    "    for POS in range(k,201):\n",
    "        exp += POS*((comb(POS,k)*comb(200-POS,10-k))/den)\n",
    "    print(\"Expectation of POS given k =\",k,\"is\",exp)\n"
   ]
  }
 ],
 "metadata": {
  "interpreter": {
   "hash": "fe06f96167c4fc64a78c238d993189072a4e72b444216e36203d6f96126eaf0a"
  },
  "kernelspec": {
   "display_name": "Python 3.9.0 64-bit",
   "name": "python3"
  },
  "language_info": {
   "codemirror_mode": {
    "name": "ipython",
    "version": 3
   },
   "file_extension": ".py",
   "mimetype": "text/x-python",
   "name": "python",
   "nbconvert_exporter": "python",
   "pygments_lexer": "ipython3",
   "version": "3.9.0"
  },
  "orig_nbformat": 4
 },
 "nbformat": 4,
 "nbformat_minor": 2
}
