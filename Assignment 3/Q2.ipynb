{
 "cells": [
  {
   "cell_type": "code",
   "execution_count": 6,
   "metadata": {},
   "outputs": [
    {
     "name": "stdout",
     "output_type": "stream",
     "text": [
      "Expectation of POS given k = 0 is 15.833333333333332\n",
      "Expectation of POS given k = 1 is 32.66666666666669\n",
      "Expectation of POS given k = 2 is 49.50000000000003\n",
      "Expectation of POS given k = 3 is 66.33333333333333\n",
      "Expectation of POS given k = 4 is 83.16666666666666\n",
      "Expectation of POS given k = 5 is 100.00000000000004\n",
      "Expectation of POS given k = 6 is 116.83333333333336\n",
      "Expectation of POS given k = 7 is 133.66666666666657\n",
      "Expectation of POS given k = 8 is 150.49999999999991\n",
      "Expectation of POS given k = 9 is 167.33333333333331\n",
      "Expectation of POS given k = 10 is 184.16666666666663\n"
     ]
    }
   ],
   "source": [
    "from math import comb\n",
    "\n",
    "N = 200\n",
    "POS = 0\n",
    "k = 0\n",
    "for k in range(0,11):\n",
    "    exp = 0\n",
    "    den = 0\n",
    "    for POS in range(k,201):\n",
    "        den += (comb(POS,k)*comb(200-POS,10-k))\n",
    "\n",
    "    for POS in range(k,201):\n",
    "        exp += POS*((comb(POS,k)*comb(200-POS,10-k))/den)\n",
    "    print(\"Expectation of POS given k =\",k,\"is\",exp)\n"
   ]
  }
 ],
 "metadata": {
  "interpreter": {
   "hash": "fe06f96167c4fc64a78c238d993189072a4e72b444216e36203d6f96126eaf0a"
  },
  "kernelspec": {
   "display_name": "Python 3.9.0 64-bit",
   "name": "python3"
  },
  "language_info": {
   "codemirror_mode": {
    "name": "ipython",
    "version": 3
   },
   "file_extension": ".py",
   "mimetype": "text/x-python",
   "name": "python",
   "nbconvert_exporter": "python",
   "pygments_lexer": "ipython3",
   "version": "3.9.0"
  },
  "orig_nbformat": 4
 },
 "nbformat": 4,
 "nbformat_minor": 2
}
