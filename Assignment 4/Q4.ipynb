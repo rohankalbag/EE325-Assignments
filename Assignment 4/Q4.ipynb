{
 "cells": [
  {
   "cell_type": "code",
   "execution_count": 1,
   "metadata": {},
   "outputs": [],
   "source": [
    "import random\n",
    "import numpy as np\n",
    "import matplotlib.pyplot as plt\n",
    "\n",
    "plt.rcParams['figure.figsize'] = 12,10\n",
    "Values = [1,2,3,4,5,6]\n",
    "\n",
    "def P_Conditional(i,P):\n",
    "    probs = P[i-1]\n",
    "    return np.random.choice(np.arange(1, 7), p=probs)"
   ]
  },
  {
   "cell_type": "markdown",
   "metadata": {},
   "source": [
    "# a"
   ]
  },
  {
   "cell_type": "code",
   "execution_count": 2,
   "metadata": {},
   "outputs": [],
   "source": [
    "P = [[0.3,0.7,0,0,0,0], [0.3,0.3,0,0.2,0.2,0], [0,0,0.3,0.7,0,0], [0,0,0.7,0.3,0,0], [0,0,0,0,0.3,0.7], [0,0,0,0,0.7,0.3]]\n",
    "main_values_a = []\n",
    "\n",
    "for j in range(100):\n",
    "    values_a = []\n",
    "    init = random.randint(1,6)\n",
    "    values_a += [init]\n",
    "    n = init\n",
    "    for k in range(99):\n",
    "        n = P_Conditional(n, P)\n",
    "        values_a += [n]\n",
    "\n",
    "    # plt.plot(range(1,101),values_a)\n",
    "    # plt.show()\n",
    "    main_values_a += [values_a]"
   ]
  },
  {
   "cell_type": "code",
   "execution_count": 3,
   "metadata": {},
   "outputs": [
    {
     "name": "stdout",
     "output_type": "stream",
     "text": [
      "Ensemble Average\n",
      "[3.52 3.7  3.86 4.09 4.2  4.24 4.47 4.47 4.41 4.43 4.46 4.45 4.48 4.47\n",
      " 4.49 4.51 4.47 4.49 4.56 4.53 4.48 4.46 4.59 4.53 4.51 4.54 4.56 4.49\n",
      " 4.55 4.43 4.56 4.45 4.51 4.59 4.57 4.5  4.55 4.47 4.58 4.51 4.51 4.49\n",
      " 4.47 4.55 4.49 4.45 4.55 4.45 4.58 4.44 4.62 4.51 4.56 4.46 4.5  4.46\n",
      " 4.54 4.47 4.54 4.54 4.51 4.5  4.53 4.49 4.52 4.56 4.43 4.53 4.52 4.46\n",
      " 4.49 4.49 4.49 4.6  4.43 4.55 4.51 4.59 4.5  4.55 4.55 4.38 4.6  4.56\n",
      " 4.56 4.53 4.59 4.55 4.56 4.42 4.54 4.55 4.53 4.54 4.5  4.51 4.58 4.5\n",
      " 4.48 4.57]\n",
      "Time Average\n",
      "[3.48 5.45 3.52 3.44 5.42 5.49 5.52 5.47 3.52 3.49 5.53 3.48 3.46 5.49\n",
      " 5.47 5.51 5.49 3.46 5.47 3.48 5.45 5.5  5.44 5.3  3.45 3.49 5.41 5.48\n",
      " 3.51 3.48 5.36 3.29 5.53 5.51 3.39 5.29 3.45 3.46 5.5  3.55 3.52 3.46\n",
      " 3.43 5.51 3.41 3.51 3.56 3.45 3.52 5.24 3.5  5.49 3.47 3.45 5.31 3.11\n",
      " 5.51 5.54 5.38 5.28 3.46 3.5  5.53 5.45 3.4  3.5  5.52 3.48 5.42 5.51\n",
      " 3.42 5.53 5.47 5.42 3.53 3.57 3.49 3.46 3.5  3.23 5.43 3.48 3.49 5.46\n",
      " 3.5  5.51 3.44 3.34 5.51 5.55 5.41 3.31 5.51 5.48 5.54 5.37 5.49 5.45\n",
      " 3.45 5.52]\n"
     ]
    }
   ],
   "source": [
    "main_values_a = np.array(main_values_a)\n",
    "print('Ensemble Average')\n",
    "print(np.average(main_values_a, axis=0))\n",
    "print('Time Average')\n",
    "print(np.average(main_values_a, axis=1))"
   ]
  },
  {
   "cell_type": "markdown",
   "metadata": {},
   "source": [
    "# b"
   ]
  },
  {
   "cell_type": "code",
   "execution_count": 4,
   "metadata": {},
   "outputs": [],
   "source": [
    "P = [[0.3,0.7,0,0,0,0], [0.3,0.3,0,0.2,0.2,0], [0,0,0.3,0.7,0,0], [0,0,0.7,0.3,0,0], [0,0.2,0,0,0.3,0.5], [0,0,0,0,0.7,0.3]]\n",
    "main_values_b = []\n",
    "\n",
    "for j in range(100):\n",
    "    values_a = []\n",
    "    init = random.randint(1,6)\n",
    "    values_a += [init]\n",
    "    n = init\n",
    "    for k in range(99):\n",
    "        n = P_Conditional(n, P)\n",
    "        values_a += [n]\n",
    "\n",
    "    # plt.plot(range(1,101),values_a)\n",
    "    # plt.show()\n",
    "    main_values_b += [values_a]"
   ]
  },
  {
   "cell_type": "code",
   "execution_count": 5,
   "metadata": {},
   "outputs": [
    {
     "name": "stdout",
     "output_type": "stream",
     "text": [
      "Ensemble Average\n",
      "[3.47 3.68 3.65 3.79 3.8  3.86 3.88 3.86 3.81 3.83 3.74 3.85 3.73 3.71\n",
      " 3.81 3.7  3.65 3.53 3.63 3.69 3.68 3.65 3.66 3.59 3.62 3.63 3.57 3.58\n",
      " 3.56 3.62 3.57 3.64 3.62 3.58 3.6  3.7  3.74 3.63 3.67 3.69 3.68 3.64\n",
      " 3.63 3.56 3.59 3.51 3.58 3.61 3.49 3.68 3.49 3.48 3.59 3.55 3.61 3.64\n",
      " 3.64 3.64 3.59 3.53 3.68 3.5  3.48 3.51 3.47 3.55 3.45 3.55 3.48 3.37\n",
      " 3.54 3.39 3.52 3.53 3.55 3.49 3.5  3.55 3.46 3.51 3.45 3.62 3.37 3.5\n",
      " 3.49 3.57 3.38 3.48 3.56 3.49 3.57 3.49 3.48 3.54 3.58 3.55 3.51 3.57\n",
      " 3.39 3.56]\n",
      "Time Average\n",
      "[3.58 3.5  3.43 3.44 3.46 3.53 3.42 3.48 3.46 3.55 4.22 4.42 3.7  3.85\n",
      " 3.32 3.47 3.51 3.47 3.52 3.78 3.49 3.47 3.48 3.76 3.47 3.42 3.52 3.45\n",
      " 3.31 3.55 3.54 3.57 3.46 3.33 3.52 3.47 3.47 3.92 3.5  3.51 3.48 3.45\n",
      " 3.51 3.5  4.01 3.36 4.   3.5  3.76 3.37 3.68 4.58 3.52 3.96 3.49 3.42\n",
      " 3.42 3.5  3.48 3.51 3.42 3.72 3.49 3.51 3.8  3.73 3.48 3.84 3.51 3.41\n",
      " 3.96 3.34 3.59 3.45 3.51 3.51 3.58 3.65 3.51 3.55 3.45 3.55 3.49 3.7\n",
      " 3.49 3.52 3.54 3.52 3.49 3.53 3.58 3.7  3.51 4.56 3.48 4.31 3.47 4.07\n",
      " 3.44 3.45]\n"
     ]
    }
   ],
   "source": [
    "main_values_b = np.array(main_values_b)\n",
    "\n",
    "print('Ensemble Average')\n",
    "print(np.average(main_values_b, axis=0))\n",
    "print('Time Average')\n",
    "print(np.average(main_values_b, axis=1))"
   ]
  },
  {
   "cell_type": "markdown",
   "metadata": {},
   "source": [
    "# c"
   ]
  },
  {
   "cell_type": "code",
   "execution_count": 6,
   "metadata": {},
   "outputs": [],
   "source": [
    "P = [[0,0,0.4,0.6,0,0], [0,0,0.6,0.4,0,0], [0,0,0,0,0.4,0.6], [0,0,0,0,0.6,0.4], [0.4,0.6,0,0,0,0], [0.6,0.4,0,0,0,0]]\n",
    "main_values_c = []\n",
    "\n",
    "for j in range(100):\n",
    "    values_a = []\n",
    "    init = random.randint(1,6)\n",
    "    values_a += [init]\n",
    "    n = init\n",
    "    for k in range(99):\n",
    "        n = P_Conditional(n, P)\n",
    "        values_a += [n]\n",
    "\n",
    "    # plt.plot(range(1,101),values_a)\n",
    "    # plt.show()\n",
    "    main_values_c += [values_a]"
   ]
  },
  {
   "cell_type": "code",
   "execution_count": 7,
   "metadata": {},
   "outputs": [
    {
     "name": "stdout",
     "output_type": "stream",
     "text": [
      "Ensemble Average\n",
      "[3.19 3.61 3.65 3.13 3.65 3.58 3.25 3.63 3.77 3.2  3.63 3.74 3.09 3.71\n",
      " 3.66 3.1  3.7  3.59 3.17 3.65 3.63 3.07 3.7  3.66 3.12 3.7  3.7  3.23\n",
      " 3.69 3.61 3.13 3.64 3.74 3.21 3.61 3.71 3.13 3.71 3.69 3.19 3.6  3.76\n",
      " 3.12 3.65 3.7  3.17 3.69 3.66 3.18 3.63 3.73 3.19 3.71 3.6  3.15 3.58\n",
      " 3.66 3.14 3.71 3.57 3.22 3.59 3.71 3.22 3.63 3.69 3.15 3.66 3.71 3.19\n",
      " 3.67 3.69 3.17 3.61 3.67 3.21 3.7  3.56 3.14 3.65 3.63 3.13 3.7  3.69\n",
      " 3.18 3.59 3.73 3.09 3.71 3.66 3.2  3.68 3.63 3.17 3.66 3.69 3.11 3.7\n",
      " 3.69 3.15]\n",
      "Time Average\n",
      "[3.46 3.46 3.51 3.49 3.52 3.48 3.52 3.44 3.47 3.49 3.58 3.49 3.48 3.54\n",
      " 3.41 3.44 3.45 3.45 3.53 3.43 3.5  3.47 3.55 3.54 3.53 3.46 3.53 3.52\n",
      " 3.47 3.42 3.52 3.44 3.48 3.52 3.52 3.43 3.47 3.5  3.5  3.46 3.55 3.39\n",
      " 3.5  3.57 3.48 3.54 3.54 3.46 3.46 3.43 3.41 3.57 3.52 3.5  3.55 3.48\n",
      " 3.45 3.46 3.5  3.54 3.49 3.4  3.52 3.54 3.6  3.41 3.49 3.52 3.51 3.52\n",
      " 3.47 3.48 3.54 3.41 3.48 3.51 3.44 3.47 3.53 3.52 3.55 3.56 3.49 3.59\n",
      " 3.45 3.52 3.52 3.58 3.51 3.56 3.53 3.5  3.49 3.5  3.5  3.52 3.48 3.48\n",
      " 3.45 3.4 ]\n"
     ]
    }
   ],
   "source": [
    "main_values_c = np.array(main_values_c)\n",
    "\n",
    "print('Ensemble Average')\n",
    "print(np.average(main_values_c, axis=0))\n",
    "print('Time Average')\n",
    "print(np.average(main_values_c, axis=1))"
   ]
  },
  {
   "cell_type": "markdown",
   "metadata": {},
   "source": [
    "# d"
   ]
  },
  {
   "cell_type": "code",
   "execution_count": 8,
   "metadata": {},
   "outputs": [],
   "source": [
    "P = [[0,0,0.4,0.6,0,0], [0,0,0.6,0.4,0,0], [0,0,0,0,0.4,0.6], [0,0,0,0,0.6,0.4], [0.4,0.6,0,0,0,0], [0.3,0.4,0,0,0,0.3]]\n",
    "main_values_d = []\n",
    "\n",
    "for j in range(100):\n",
    "    values_a = []\n",
    "    init = random.randint(1,6)\n",
    "    values_a += [init]\n",
    "    n = init\n",
    "    for k in range(99):\n",
    "        n = P_Conditional(n, P)\n",
    "        values_a += [n]\n",
    "\n",
    "    # plt.plot(range(1,101),values_a)\n",
    "    # plt.show()\n",
    "    main_values_d += [values_a]"
   ]
  },
  {
   "cell_type": "code",
   "execution_count": 9,
   "metadata": {},
   "outputs": [
    {
     "name": "stdout",
     "output_type": "stream",
     "text": [
      "Ensemble Average\n",
      "[3.54 3.65 3.64 3.7  3.69 3.71 3.87 3.69 3.59 3.7  3.71 3.63 3.43 3.67\n",
      " 3.65 3.62 3.68 3.83 3.54 3.46 3.81 3.75 3.5  3.68 3.78 3.68 3.73 3.73\n",
      " 3.98 3.75 3.57 3.64 3.79 3.95 3.5  3.45 3.99 3.64 3.56 3.91 3.64 3.47\n",
      " 4.   3.77 3.47 3.89 3.55 3.43 3.98 3.68 3.33 3.93 3.69 3.49 3.72 3.71\n",
      " 3.71 3.92 3.53 3.74 3.65 3.58 3.79 3.87 3.53 3.66 3.79 3.55 3.8  3.99\n",
      " 3.76 3.49 3.87 3.65 3.79 3.73 3.56 3.58 3.78 3.92 3.89 3.66 3.75 3.74\n",
      " 3.62 3.85 3.65 3.76 3.76 3.64 3.64 3.72 3.75 3.63 3.65 3.83 3.52 3.75\n",
      " 3.88 3.48]\n",
      "Time Average\n",
      "[3.65 3.66 3.76 3.65 3.87 3.93 3.8  3.49 3.43 3.66 3.74 3.76 3.69 3.62\n",
      " 3.52 3.67 3.86 3.73 3.91 3.66 3.62 3.67 3.57 3.62 3.67 3.71 3.76 3.67\n",
      " 3.73 3.73 3.82 3.67 3.68 3.76 3.72 3.71 3.71 3.68 3.64 3.58 3.62 3.65\n",
      " 3.55 3.55 3.9  3.61 3.61 3.69 3.81 3.7  3.83 3.75 3.6  3.61 3.75 3.81\n",
      " 3.72 3.58 3.6  3.73 3.77 3.79 3.58 3.8  3.69 3.7  3.74 3.54 3.63 3.61\n",
      " 3.67 3.72 3.74 3.87 3.75 3.69 3.69 3.64 3.78 3.61 3.88 3.65 3.59 3.74\n",
      " 3.72 3.63 3.7  3.87 3.62 3.68 3.76 3.68 3.64 3.81 3.73 3.67 3.72 3.56\n",
      " 3.63 3.81]\n"
     ]
    }
   ],
   "source": [
    "main_values_d = np.array(main_values_d)\n",
    "\n",
    "print('Ensemble Average')\n",
    "print(np.average(main_values_d, axis=0))\n",
    "print('Time Average')\n",
    "print(np.average(main_values_d, axis=1))"
   ]
  }
 ],
 "metadata": {
  "interpreter": {
   "hash": "fe06f96167c4fc64a78c238d993189072a4e72b444216e36203d6f96126eaf0a"
  },
  "kernelspec": {
   "display_name": "Python 3.9.0 64-bit",
   "name": "python3"
  },
  "language_info": {
   "codemirror_mode": {
    "name": "ipython",
    "version": 3
   },
   "file_extension": ".py",
   "mimetype": "text/x-python",
   "name": "python",
   "nbconvert_exporter": "python",
   "pygments_lexer": "ipython3",
   "version": "3.9.0"
  },
  "orig_nbformat": 4
 },
 "nbformat": 4,
 "nbformat_minor": 2
}
