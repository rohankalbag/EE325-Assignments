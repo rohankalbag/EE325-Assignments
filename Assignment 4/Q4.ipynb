{
 "cells": [
  {
   "cell_type": "code",
   "execution_count": null,
   "metadata": {},
   "outputs": [],
   "source": [
    "Values = [1,2,3,4,5,6]\n",
    "import random\n",
    "import numpy as np\n",
    "import matplotlib.pyplot as plt\n",
    "\n",
    "P = [[0.3,0.7,0,0,0,0], [0.3,0.3,0,0.2,0.2,0], [0,0,0.3,0.7,0,0], [0,0,0.7,0.3,0,0], [0,0,0,0,0.3,0.7], [0,0,0,0.7,0.3]]\n",
    "\n",
    "def P_Conditional(i,P):\n",
    "    probs = P[i-1]\n",
    "    a = random.random()\n",
    "\n",
    "    if(a >= 0 and a<=probs[0]):\n",
    "        return 1\n",
    "    elif(a>probs[0] and a<=probs[0]+probs[1]):\n",
    "        return 2\n",
    "    elif(a>probs[1]+probs[0] and a<=probs[0]+probs[1]+probs[2]):\n",
    "        return 3\n",
    "    elif(a>probs[0]+probs[1]+probs[2] and a<=probs[0]+probs[1]+probs[2]+probs[3]):\n",
    "        return 4\n",
    "    elif(a>probs[0]+probs[1]+probs[2]+probs[3] and a<=probs[0]+probs[1]+probs[2]+probs[3]+probs[4]):\n",
    "        return 5\n",
    "    else:\n",
    "        return 6\n",
    "    \n",
    "\n"
   ]
  }
 ],
 "metadata": {
  "language_info": {
   "name": "python"
  },
  "orig_nbformat": 4
 },
 "nbformat": 4,
 "nbformat_minor": 2
}
