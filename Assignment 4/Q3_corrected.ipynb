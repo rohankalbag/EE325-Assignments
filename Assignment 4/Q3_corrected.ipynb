{
  "nbformat": 4,
  "nbformat_minor": 0,
  "metadata": {
    "colab": {
      "name": "Untitled5.ipynb",
      "provenance": [],
      "authorship_tag": "ABX9TyMasH6QsRrPWEpLNzik232X",
      "include_colab_link": true
    },
    "kernelspec": {
      "name": "python3",
      "display_name": "Python 3"
    },
    "language_info": {
      "name": "python"
    }
  },
  "cells": [
    {
      "cell_type": "markdown",
      "metadata": {
        "id": "view-in-github",
        "colab_type": "text"
      },
      "source": [
        "<a href=\"https://colab.research.google.com/github/rohankalbag/EE325-Assignment-Repo/blob/main/Assignment%204/Q3_corrected.ipynb\" target=\"_parent\"><img src=\"https://colab.research.google.com/assets/colab-badge.svg\" alt=\"Open In Colab\"/></a>"
      ]
    },
    {
      "cell_type": "code",
      "metadata": {
        "id": "sefozGV0UaaG"
      },
      "source": [
        "import random\n",
        "import numpy as np\n",
        "import matplotlib.pyplot as plt\n",
        "plt.rcParams['figure.figsize'] = 15,15\n",
        "\n",
        "def Q(n, p1, p2, p3):\n",
        "    a = random.random()\n",
        "\n",
        "    if(a>=0 and a<=p1):\n",
        "        return n+1\n",
        "    elif(a>p1 and a<=p1+p2):\n",
        "        return n-1\n",
        "    else:\n",
        "        return n\n",
        "\n",
        "\n",
        "n = 0\n",
        "mus = [0.9,0.7,0.7]\n",
        "las = [0.7,0.9,0.7]\n",
        "\n",
        "main_dict = {}\n",
        "\n",
        "for i in range(len(mus)):\n",
        "    mu=mus[i]\n",
        "    la=las[i]\n",
        "    value_matrix = []\n",
        "    p1 = la*(1-mu)\n",
        "    p2 = (1-la)*mu\n",
        "    p3 = (1-mu)*(1-la) + la*mu\n",
        "    for j in range(10000):\n",
        "        values = [0]\n",
        "        #changes = []\n",
        "        n = 0\n",
        "        for i in range(10000-1):\n",
        "            n = Q(n,p1,p2,p3)\n",
        "            #changes += [n]\n",
        "            values += [n]\n",
        "\n",
        "        value_matrix += [values]\n",
        "        # print(f\"Time average for lambda={la} and mu={mu} = {np.mean(np.array(values))}\")\n",
        "        # plt.plot(range(1,1001),values)\n",
        "        # plt.ylabel(f\"Q(n) for lambda = {la} and mu = {mu}\")\n",
        "        # plt.xlabel(\"n\")\n",
        "        # plt.show()\n",
        "    main_dict[(mu,la)] = value_matrix"
      ],
      "execution_count": 13,
      "outputs": []
    },
    {
      "cell_type": "code",
      "metadata": {
        "colab": {
          "base_uri": "https://localhost:8080/"
        },
        "id": "1TI4R2kTXpn9",
        "outputId": "2b7a2406-582e-4591-c9f0-58bbec276e2b"
      },
      "source": [
        "for key in list(main_dict.keys()):\n",
        "    val = main_dict[key]\n",
        "    val = np.array(val)\n",
        "    print(val.shape)\n",
        "    mean_func = np.mean(val,axis=0)\n",
        "    print(f\"mu={key[0]} and lambda={key[1]}\")\n",
        "    print(f\"Mean = {np.mean(mean_func)}\")\n",
        "    print(f\"Standard Deviation = {np.std(mean_func)}\")\n",
        "    print(f\"Stddev/Mean ={np.std(mean_func)/np.average(mean_func)}\",'\\n')"
      ],
      "execution_count": 14,
      "outputs": [
        {
          "output_type": "stream",
          "name": "stdout",
          "text": [
            "(10000, 10000)\n",
            "mu=0.9 and lambda=0.7\n",
            "Mean = -1000.0857406399999\n",
            "Standard Deviation = 577.4719903244547\n",
            "Stddev/Mean =-0.577422481751319 \n",
            "\n",
            "(10000, 10000)\n",
            "mu=0.7 and lambda=0.9\n",
            "Mean = 999.8528704199999\n",
            "Standard Deviation = 577.3739927478333\n",
            "Stddev/Mean =0.5774589540412087 \n",
            "\n",
            "(10000, 10000)\n",
            "mu=0.7 and lambda=0.7\n",
            "Mean = -0.5151266\n",
            "Standard Deviation = 0.1997447661653241\n",
            "Stddev/Mean =-0.38775859403363 \n",
            "\n"
          ]
        }
      ]
    },
    {
      "cell_type": "code",
      "metadata": {
        "id": "0gEViWKeacVg"
      },
      "source": [
        "r_holder = []\n",
        "for key in main_dict.keys():\n",
        "    val = main_dict[key]\n",
        "    val = np.array(val)\n",
        "    R = np.dot(val.T,val)/val.shape[0]\n",
        "    print(val.shape)\n",
        "    r_holder += [R]"
      ],
      "execution_count": null,
      "outputs": []
    },
    {
      "cell_type": "code",
      "metadata": {
        "id": "15AV0CIwdG-7"
      },
      "source": [
        "import seaborn as sns\n",
        "\n",
        "for R in r_holder:\n",
        "    sns.heatmap(R)\n",
        "    plt.show()"
      ],
      "execution_count": null,
      "outputs": []
    },
    {
      "cell_type": "code",
      "metadata": {
        "id": "6S7srMX9kn-1"
      },
      "source": [
        "print()"
      ],
      "execution_count": null,
      "outputs": []
    }
  ]
}